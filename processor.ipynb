{
 "cells": [
  {
   "cell_type": "markdown",
   "metadata": {},
   "source": [
    "# GipsyX processor\n",
    "### 1. Conversion, analysis and merging  of rinex files into 30 h arc files\n",
    "### 2. TropNominals generation with VMF1 model\n",
    "### 3. IONEX merging\n",
    "### 4. Tree files generation (for each year and IONEX file)"
   ]
  },
  {
   "cell_type": "code",
   "execution_count": 1,
   "metadata": {
    "ExecuteTime": {
     "end_time": "2018-10-12T10:18:38.919932Z",
     "start_time": "2018-10-12T10:18:38.536803Z"
    },
    "code_folding": []
   },
   "outputs": [],
   "source": [
    "from gxlib import gx_aux,gx_convert, gx_merge, gx_trees, gx_compute, gx_tdps\n",
    "\n",
    "\n",
    "class rnx2dr:\n",
    "    def __init__(self,\n",
    "                 project_name,\n",
    "                 stations_list,\n",
    "                 years_list,\n",
    "                 tree_options,\n",
    "                 rnx_dir='/mnt/Data/bogdanm/GNSS_data/BIGF_data/daily30s',\n",
    "                 tmp_dir='/mnt/Data/bogdanm/tmp_GipsyX',\n",
    "                 VMF1_dir = '/mnt/Data/bogdanm/Products/VMF1_Products',\n",
    "                 tropNom_type = '30h_tropNominalOut_VMF1.tdp',\n",
    "                 IGS_logs_dir = '/mnt/Data/bogdanm/GNSS_data/BIGF_data/station_log_files',\n",
    "                 rate = 300,\n",
    "                 gnss_products_dir = '/mnt/Data/bogdanm/Products/JPL_GPS_Products_IGb08/Final',\n",
    "                 ionex_type='igs', #No ionex dir required as ionex merged products will be put into tmp directory by ionex class\n",
    "                 num_cores = 8):\n",
    "        \n",
    "        self.project_name = project_name\n",
    "        self.IGS_logs_dir = IGS_logs_dir\n",
    "        self.rnx_dir=rnx_dir\n",
    "        self.tmp_dir=tmp_dir\n",
    "        self.stations_list=stations_list\n",
    "        self.years_list=years_list\n",
    "        self.num_cores = num_cores\n",
    "        self.VMF1_dir = VMF1_dir\n",
    "        self.tropNom_type = tropNom_type\n",
    "        self.tree_options = tree_options\n",
    "        self.rnx_files = gx_convert.select_rnx(rnx_dir=self.rnx_dir,stations_list=self.stations_list,years_list=self.years_list)\n",
    "        self.rnx_files_in_out = gx_convert.rnx2dr_gen_paths(rnx_files=self.rnx_files,stations_list=self.stations_list,tmp_dir=self.tmp_dir)\n",
    "        self.staDb_path= gx_aux.gen_staDb(self.tmp_dir,self.project_name,self.stations_list,self.IGS_logs_dir)\n",
    "        self.gnss_products_dir = gnss_products_dir\n",
    "        self.ionex_type=ionex_type\n",
    "        self.rate=rate\n",
    "        \n",
    "    def analyse(self):\n",
    "        return gx_aux.analyse(rnx_files=self.rnx_files,stations_list=self.stations_list,years_list=self.years_list)\n",
    "    def rnx2dr(self):\n",
    "        gx_convert.rnx2dr(rnx_files=self.rnx_files, stations_list=self.stations_list, tmp_dir=self.tmp_dir, num_cores=self.num_cores)\n",
    "\n",
    "    def get_drInfo(self):\n",
    "        gx_aux.get_drinfo(num_cores=self.num_cores,rnx_files_in_out=self.rnx_files_in_out,stations_list=self.stations_list,tmp_dir=self.tmp_dir,years_list=self.years_list)\n",
    "    \n",
    "    def dr_merge(self):\n",
    "        merge_table = gx_merge.get_merge_table(tmp_dir=self.tmp_dir)\n",
    "        gx_merge.dr_merge(merge_table=merge_table,num_cores=self.num_cores,stations_list=self.stations_list)\n",
    "    def gen_VMF1_tropNom(self):\n",
    "        gx_tdps.gen_tropnom(tmp_dir=self.tmp_dir,VMF1_dir=self.VMF1_dir,num_cores=self.num_cores,rate=self.rate,staDb_path=self.staDb_path)\n",
    "    def gen_trees(self):\n",
    "        return gx_trees.gen_trees(ionex_type=self.ionex_type,tmp_dir=self.tmp_dir,tree_options=self.tree_options)\n",
    "    def gd2e(self):\n",
    "        merge_table = gx_merge.get_merge_table(tmp_dir=self.tmp_dir)\n",
    "        return gx_compute.gd2e(gnss_products_dir=self.gnss_products_dir,\n",
    "                merge_tables=merge_table,\n",
    "                num_cores=self.num_cores,\n",
    "                project_name=self.project_name,\n",
    "                staDb_path=self.staDb_path,\n",
    "                stations_list=self.stations_list,\n",
    "                tmp_dir=self.tmp_dir,\n",
    "                trees_df=self.gen_trees(),\n",
    "                tropNom_type=self.tropNom_type,\n",
    "                years_list=self.years_list)\n",
    "            \n",
    "\n"
   ]
  },
  {
   "cell_type": "code",
   "execution_count": 2,
   "metadata": {
    "ExecuteTime": {
     "end_time": "2018-10-12T10:18:39.033526Z",
     "start_time": "2018-10-12T10:18:39.030580Z"
    }
   },
   "outputs": [],
   "source": [
    "from trees_options import *"
   ]
  },
  {
   "cell_type": "code",
   "execution_count": 11,
   "metadata": {
    "ExecuteTime": {
     "end_time": "2018-10-12T16:27:18.826490Z",
     "start_time": "2018-10-12T16:27:18.357191Z"
    }
   },
   "outputs": [
    {
     "name": "stdout",
     "output_type": "stream",
     "text": [
      "Station CAMB is already processed\n"
     ]
    },
    {
     "data": {
      "text/plain": [
       "array([None], dtype=object)"
      ]
     },
     "execution_count": 11,
     "metadata": {},
     "output_type": "execute_result"
    }
   ],
   "source": [
    "'''CAMB test dataset 2003-2007 processing for noise analysis etc'''\n",
    "stations_list=['CAMB',]\n",
    "# years_list=[2003,]\n",
    "years_list=[2003,2004,2005,2006,2007]\n",
    "camb_aux = rnx2dr(stations_list=stations_list,years_list=years_list, project_name='camb_2003-2007_kinematic057_10Em5',num_cores=16,tree_options=all_on_kinematic_057_10Em5)\n",
    "camb_aux.gd2e()"
   ]
  },
  {
   "cell_type": "code",
   "execution_count": 12,
   "metadata": {
    "ExecuteTime": {
     "end_time": "2018-10-12T16:27:22.270788Z",
     "start_time": "2018-10-12T16:27:21.864797Z"
    }
   },
   "outputs": [
    {
     "name": "stdout",
     "output_type": "stream",
     "text": [
      "Station CAMB is already processed\n"
     ]
    },
    {
     "data": {
      "text/plain": [
       "array([None], dtype=object)"
      ]
     },
     "execution_count": 12,
     "metadata": {},
     "output_type": "execute_result"
    }
   ],
   "source": [
    "camb_aux = rnx2dr(stations_list=stations_list,years_list=years_list, project_name='camb_2003-2007_kinematic057_10Em4',num_cores=16,tree_options=all_on_kinematic_057_10Em4)\n",
    "camb_aux.gd2e()"
   ]
  },
  {
   "cell_type": "code",
   "execution_count": 13,
   "metadata": {
    "ExecuteTime": {
     "end_time": "2018-10-12T16:27:24.793590Z",
     "start_time": "2018-10-12T16:27:24.268574Z"
    }
   },
   "outputs": [
    {
     "name": "stdout",
     "output_type": "stream",
     "text": [
      "Station CAMB is already processed\n"
     ]
    },
    {
     "data": {
      "text/plain": [
       "array([None], dtype=object)"
      ]
     },
     "execution_count": 13,
     "metadata": {},
     "output_type": "execute_result"
    }
   ],
   "source": [
    "camb_aux = rnx2dr(stations_list=stations_list,years_list=years_list, project_name='camb_2003-2007_kinematic057_10Em3',num_cores=16,tree_options=all_on_kinematic_057_10Em3)\n",
    "camb_aux.gd2e()"
   ]
  },
  {
   "cell_type": "code",
   "execution_count": 14,
   "metadata": {
    "ExecuteTime": {
     "end_time": "2018-10-12T16:27:28.691301Z",
     "start_time": "2018-10-12T16:27:28.162441Z"
    }
   },
   "outputs": [
    {
     "name": "stdout",
     "output_type": "stream",
     "text": [
      "Station CAMB is already processed\n"
     ]
    },
    {
     "data": {
      "text/plain": [
       "array([None], dtype=object)"
      ]
     },
     "execution_count": 14,
     "metadata": {},
     "output_type": "execute_result"
    }
   ],
   "source": [
    "camb_aux = rnx2dr(stations_list=stations_list,years_list=years_list, project_name='camb_2003-2007_kinematic057_10Em2',num_cores=16,tree_options=all_on_kinematic_057_10Em2)\n",
    "camb_aux.gd2e()"
   ]
  },
  {
   "cell_type": "code",
   "execution_count": 15,
   "metadata": {
    "ExecuteTime": {
     "end_time": "2018-10-12T16:27:32.137379Z",
     "start_time": "2018-10-12T16:27:31.608366Z"
    }
   },
   "outputs": [
    {
     "name": "stdout",
     "output_type": "stream",
     "text": [
      "Station CAMB is already processed\n"
     ]
    },
    {
     "data": {
      "text/plain": [
       "array([None], dtype=object)"
      ]
     },
     "execution_count": 15,
     "metadata": {},
     "output_type": "execute_result"
    }
   ],
   "source": [
    "camb_aux = rnx2dr(stations_list=stations_list,years_list=years_list, project_name='camb_2003-2007_kinematic057_10Em1',num_cores=16,tree_options=all_on_kinematic_057_10Em1)\n",
    "camb_aux.gd2e()"
   ]
  },
  {
   "cell_type": "code",
   "execution_count": 16,
   "metadata": {
    "ExecuteTime": {
     "end_time": "2018-10-12T16:27:34.886089Z",
     "start_time": "2018-10-12T16:27:34.448070Z"
    }
   },
   "outputs": [
    {
     "name": "stdout",
     "output_type": "stream",
     "text": [
      "Station CAMB is already processed\n"
     ]
    },
    {
     "data": {
      "text/plain": [
       "array([None], dtype=object)"
      ]
     },
     "execution_count": 16,
     "metadata": {},
     "output_type": "execute_result"
    }
   ],
   "source": [
    "camb_aux = rnx2dr(stations_list=stations_list,years_list=years_list, project_name='camb_2003-2007_kinematic057_10E0',num_cores=16,tree_options=all_on_kinematic_057_10E0)\n",
    "camb_aux.gd2e()"
   ]
  },
  {
   "cell_type": "code",
   "execution_count": 17,
   "metadata": {
    "ExecuteTime": {
     "end_time": "2018-10-12T16:27:36.071538Z",
     "start_time": "2018-10-12T16:27:35.630567Z"
    }
   },
   "outputs": [
    {
     "name": "stdout",
     "output_type": "stream",
     "text": [
      "Station CAMB is already processed\n"
     ]
    },
    {
     "data": {
      "text/plain": [
       "array([None], dtype=object)"
      ]
     },
     "execution_count": 17,
     "metadata": {},
     "output_type": "execute_result"
    }
   ],
   "source": [
    "camb_aux = rnx2dr(stations_list=stations_list,years_list=years_list, project_name='camb_2003-2007_kinematic057_10E1',num_cores=16,tree_options=all_on_kinematic_057_10E1)\n",
    "camb_aux.gd2e()"
   ]
  },
  {
   "cell_type": "code",
   "execution_count": 18,
   "metadata": {
    "ExecuteTime": {
     "end_time": "2018-10-12T16:27:37.675558Z",
     "start_time": "2018-10-12T16:27:37.125978Z"
    }
   },
   "outputs": [
    {
     "name": "stdout",
     "output_type": "stream",
     "text": [
      "Station CAMB is already processed\n"
     ]
    },
    {
     "data": {
      "text/plain": [
       "array([None], dtype=object)"
      ]
     },
     "execution_count": 18,
     "metadata": {},
     "output_type": "execute_result"
    }
   ],
   "source": [
    "camb_aux = rnx2dr(stations_list=stations_list,years_list=years_list, project_name='camb_2003-2007_kinematic057_10E2',num_cores=16,tree_options=all_on_kinematic_057_10E2)\n",
    "camb_aux.gd2e()"
   ]
  },
  {
   "cell_type": "code",
   "execution_count": null,
   "metadata": {},
   "outputs": [],
   "source": []
  },
  {
   "cell_type": "code",
   "execution_count": null,
   "metadata": {},
   "outputs": [],
   "source": []
  },
  {
   "cell_type": "code",
   "execution_count": null,
   "metadata": {},
   "outputs": [],
   "source": []
  },
  {
   "cell_type": "code",
   "execution_count": null,
   "metadata": {},
   "outputs": [],
   "source": []
  },
  {
   "cell_type": "code",
   "execution_count": 8,
   "metadata": {
    "ExecuteTime": {
     "end_time": "2018-10-12T09:59:11.567114Z",
     "start_time": "2018-10-12T09:59:11.307354Z"
    }
   },
   "outputs": [
    {
     "name": "stdout",
     "output_type": "stream",
     "text": [
      "\n",
      "Staion CAMB processing starts...\n",
      "Number of files to be processed: 325 \n",
      "Adjusted number of cores: 20\n"
     ]
    },
    {
     "data": {
      "text/plain": [
       "(2, '/mnt/Data/bogdanm/tmp_GipsyX/rnx_dr/CAMB/2003/003/camb0030.03d.Z_30h.dr.gz', 3, 2003, '003', '/mnt/Data/bogdanm/tmp_GipsyX/Trees/igs2003/', '/mnt/Data/bogdanm/tmp_GipsyX/tropNom/2003/003/30h_tropNominalOut_VMF1.tdp', '/mnt/Data/bogdanm/tmp_GipsyX/gd2e/camb_2003-2007_kinematic/CAMB/2003/003', '/mnt/Data/bogdanm/Products/JPL_GPS_Products_IGb08/Final', '/mnt/Data/bogdanm/tmp_GipsyX/staDb/camb_2003-2007_kinematic/camb_2003-2007_kinematic.staDb', 'CAMB', 0)"
      ]
     },
     "execution_count": 8,
     "metadata": {},
     "output_type": "execute_result"
    }
   ],
   "source": [
    "day_3_set = camb_aux.gd2e()[0][2]\n",
    "day_3_set"
   ]
  },
  {
   "cell_type": "code",
   "execution_count": 19,
   "metadata": {
    "ExecuteTime": {
     "end_time": "2018-10-12T10:03:28.593087Z",
     "start_time": "2018-10-12T10:03:28.587685Z"
    }
   },
   "outputs": [],
   "source": [
    "import numpy as _np\n",
    "import pandas as _pd\n",
    "from gxlib import gx_compute\n",
    "import matplotlib.pyplot as plt"
   ]
  },
  {
   "cell_type": "code",
   "execution_count": 9,
   "metadata": {
    "ExecuteTime": {
     "end_time": "2018-10-12T09:59:55.107628Z",
     "start_time": "2018-10-12T09:59:36.739893Z"
    }
   },
   "outputs": [
    {
     "name": "stdout",
     "output_type": "stream",
     "text": [
      "2003/003\n"
     ]
    }
   ],
   "source": [
    "\n",
    "gx_compute._gd2e(gd2e_set=day_3_set)"
   ]
  },
  {
   "cell_type": "code",
   "execution_count": 11,
   "metadata": {
    "ExecuteTime": {
     "end_time": "2018-10-12T10:00:57.175749Z",
     "start_time": "2018-10-12T10:00:57.157727Z"
    }
   },
   "outputs": [
    {
     "data": {
      "text/plain": [
       "array([[94813500, '{GPS51(1)-CAMB(1)}', 'IonoFreeL_1P_2P', ..., 81.5473,\n",
       "        47.5127, nan],\n",
       "       [94813500, '{GPS51(1)-CAMB(1)}', 'IonoFreeC_1P_2P', ..., 81.5473,\n",
       "        47.5127, nan],\n",
       "       [94813500, '{GPS46(1)-CAMB(1)}', 'IonoFreeL_1P_2P', ..., 88.5668,\n",
       "        204.61599999999999, nan],\n",
       "       ...,\n",
       "       [94920900, '{GPS24(1)-CAMB(1)}', 'IonoFreeC_1P_2P', ..., 81.0961,\n",
       "        185.942, nan],\n",
       "       [94920900, '{GPS13(1)-CAMB(1)}', 'IonoFreeL_1P_2P', ..., 76.6723,\n",
       "        200.72400000000002, nan],\n",
       "       [94920900, '{GPS13(1)-CAMB(1)}', 'IonoFreeC_1P_2P', ..., 76.6723,\n",
       "        200.72400000000002, nan]], dtype=object)"
      ]
     },
     "execution_count": 11,
     "metadata": {},
     "output_type": "execute_result"
    }
   ],
   "source": [
    "npz_path = '/mnt/Data/bogdanm/tmp_GipsyX/gd2e/camb_2003-2007_kinematic/CAMB/2003/003/gipsyx_out.npz'\n",
    "npz_file = _np.load(npz_path)\n",
    "npz_file['finalResiduals']"
   ]
  },
  {
   "cell_type": "code",
   "execution_count": 16,
   "metadata": {
    "ExecuteTime": {
     "end_time": "2018-10-12T10:03:02.880274Z",
     "start_time": "2018-10-12T10:03:02.869136Z"
    }
   },
   "outputs": [],
   "source": [
    "def RMS_res(residuals):\n",
    "    '''Expects np array from finalResiduals.out with no header. Returns RMS of IonoFreeL_1P_2P [included] (Carrier phase residulas rms)'''\n",
    "    residuals_header = ['Time','T/R Antenna No','DataType','PF Residual (m)','Elevation from receiver (deg)',\\\n",
    "                    ' Azimuth from receiver (deg)','Elevation from transmitter (deg)',' Azimuth from transmitter (deg)','Status']\n",
    "    residuals_df = _pd.DataFrame(data = residuals,columns=residuals_header).set_index(['DataType','Time'])\n",
    "    L_residuals = residuals_df[residuals_df['Status'].isna()].loc['IonoFreeL_1P_2P']['PF Residual (m)']\n",
    "    RMS = (((L_residuals**2).sum())/L_residuals.count())**0.5\n",
    "    return L_residuals"
   ]
  },
  {
   "cell_type": "code",
   "execution_count": null,
   "metadata": {},
   "outputs": [],
   "source": []
  },
  {
   "cell_type": "code",
   "execution_count": 21,
   "metadata": {
    "ExecuteTime": {
     "end_time": "2018-10-12T10:03:33.535395Z",
     "start_time": "2018-10-12T10:03:33.390672Z"
    }
   },
   "outputs": [
    {
     "data": {
      "image/png": "[encoded data removed]",
      "text/plain": [
       "<Figure size 432x288 with 1 Axes>"
      ]
     },
     "metadata": {},
     "output_type": "display_data"
    }
   ],
   "source": [
    "RMS_res(npz_file['finalResiduals']).plot()\n",
    "plt.show()"
   ]
  },
  {
   "cell_type": "code",
   "execution_count": 25,
   "metadata": {
    "ExecuteTime": {
     "end_time": "2018-10-12T09:34:33.060593Z",
     "start_time": "2018-10-12T09:34:33.053607Z"
    }
   },
   "outputs": [
    {
     "data": {
      "text/plain": [
       "array([['Global                                             ',\n",
       "        ' .Global                                        Trees/ppp_0.tree(114)'],\n",
       "       ['  AmbRes On                                        ',\n",
       "        ' .Global.AmbRes                                 Trees/ppp_0.tree(115)'],\n",
       "       ['    Mode inSmoother                                ',\n",
       "        ' .Global.AmbRes.Mode                            Trees/ppp_0.tree(116)'],\n",
       "       ...,\n",
       "       ['      WetZ 0.1                                     ',\n",
       "        ' .Station.CAMB.Trop.WetZ                        Trees/ppp_0.tree(112)'],\n",
       "       ['        StochasticAdj 0.5 10e2 300 RANDOMWALK      ',\n",
       "        ' .Station.CAMB.Trop.WetZ.StochasticAdj          Trees/ppp_0.tree(113)'],\n",
       "       ['  VMF1dataDir /mnt/Data/bogdanm/Products/VMF1_Products ',\n",
       "        ' .Station.VMF1dataDir                       Trees/ppp_0.tree(244)']],\n",
       "      dtype=object)"
      ]
     },
     "execution_count": 25,
     "metadata": {},
     "output_type": "execute_result"
    }
   ],
   "source": [
    "debug_tree_file = '/home/bogdanm/Desktop/test/debug.tree'\n",
    "debug_tree = _pd.read_csv(debug_tree_file,sep='#',header=None,error_bad_lines=True)\n",
    "debug_tree.values"
   ]
  },
  {
   "cell_type": "code",
   "execution_count": null,
   "metadata": {},
   "outputs": [],
   "source": []
  },
  {
   "cell_type": "code",
   "execution_count": null,
   "metadata": {},
   "outputs": [],
   "source": []
  },
  {
   "cell_type": "code",
   "execution_count": 1,
   "metadata": {
    "ExecuteTime": {
     "end_time": "2018-10-10T06:23:06.738578Z",
     "start_time": "2018-10-10T06:23:06.725754Z"
    }
   },
   "outputs": [
    {
     "data": {
      "text/plain": [
       "'Add IONEX merger here'"
      ]
     },
     "execution_count": 1,
     "metadata": {},
     "output_type": "execute_result"
    }
   ],
   "source": [
    "'''Processing Graph'''\n",
    "# camb_aux.rnx2dr()\n",
    "# camb_aux.get_drInfo()\n",
    "# camb_aux.gen_VMF1_tropNom()\n",
    "# camb_aux.dr_merge()\n",
    "'''Add IONEX merger here'''\n",
    "# camb_aux.gd2e()"
   ]
  },
  {
   "cell_type": "code",
   "execution_count": 55,
   "metadata": {
    "ExecuteTime": {
     "end_time": "2018-10-12T04:46:00.523612Z",
     "start_time": "2018-10-12T04:46:00.520264Z"
    }
   },
   "outputs": [],
   "source": [
    "file = '/home/bogdanm/Desktop/test/Summary'"
   ]
  },
  {
   "cell_type": "code",
   "execution_count": 84,
   "metadata": {
    "ExecuteTime": {
     "end_time": "2018-10-12T05:17:39.339522Z",
     "start_time": "2018-10-12T05:17:39.317176Z"
    },
    "scrolled": true
   },
   "outputs": [
    {
     "data": {
      "text/html": [
       "<div>\n",
       "<style scoped>\n",
       "    .dataframe tbody tr th:only-of-type {\n",
       "        vertical-align: middle;\n",
       "    }\n",
       "\n",
       "    .dataframe tbody tr th {\n",
       "        vertical-align: top;\n",
       "    }\n",
       "\n",
       "    .dataframe thead th {\n",
       "        text-align: right;\n",
       "    }\n",
       "</style>\n",
       "<table border=\"1\" class=\"dataframe\">\n",
       "  <thead>\n",
       "    <tr style=\"text-align: right;\">\n",
       "      <th></th>\n",
       "      <th></th>\n",
       "      <th>0</th>\n",
       "      <th>3</th>\n",
       "      <th>4</th>\n",
       "      <th>5</th>\n",
       "      <th>6</th>\n",
       "      <th>7</th>\n",
       "      <th>8</th>\n",
       "      <th>9</th>\n",
       "    </tr>\n",
       "    <tr>\n",
       "      <th>1</th>\n",
       "      <th>2</th>\n",
       "      <th></th>\n",
       "      <th></th>\n",
       "      <th></th>\n",
       "      <th></th>\n",
       "      <th></th>\n",
       "      <th></th>\n",
       "      <th></th>\n",
       "      <th></th>\n",
       "    </tr>\n",
       "  </thead>\n",
       "  <tbody>\n",
       "    <tr>\n",
       "      <th rowspan=\"2\" valign=\"top\">IonoFreeC_1P_2P</th>\n",
       "      <th>included</th>\n",
       "      <td>---</td>\n",
       "      <td>-0.503520</td>\n",
       "      <td>-2.479113</td>\n",
       "      <td>-2.466010</td>\n",
       "      <td>2397</td>\n",
       "      <td>(</td>\n",
       "      <td>99.5%</td>\n",
       "      <td>)</td>\n",
       "    </tr>\n",
       "    <tr>\n",
       "      <th>deleted</th>\n",
       "      <td>---</td>\n",
       "      <td>2.929923</td>\n",
       "      <td>3.035164</td>\n",
       "      <td>-3.589551</td>\n",
       "      <td>13</td>\n",
       "      <td>(</td>\n",
       "      <td>0.5%</td>\n",
       "      <td>)</td>\n",
       "    </tr>\n",
       "    <tr>\n",
       "      <th rowspan=\"2\" valign=\"top\">IonoFreeL_1P_2P</th>\n",
       "      <th>included</th>\n",
       "      <td>---</td>\n",
       "      <td>0.004775</td>\n",
       "      <td>0.026111</td>\n",
       "      <td>-0.021730</td>\n",
       "      <td>2378</td>\n",
       "      <td>(</td>\n",
       "      <td>98.7%</td>\n",
       "      <td>)</td>\n",
       "    </tr>\n",
       "    <tr>\n",
       "      <th>deleted</th>\n",
       "      <td>---</td>\n",
       "      <td>0.174309</td>\n",
       "      <td>0.309614</td>\n",
       "      <td>-0.669919</td>\n",
       "      <td>32</td>\n",
       "      <td>(</td>\n",
       "      <td>1.3%</td>\n",
       "      <td>)</td>\n",
       "    </tr>\n",
       "  </tbody>\n",
       "</table>\n",
       "</div>"
      ],
      "text/plain": [
       "                            0         3         4         5     6  7      8  9\n",
       "1               2                                                             \n",
       "IonoFreeC_1P_2P included  --- -0.503520 -2.479113 -2.466010  2397  (  99.5%  )\n",
       "                deleted   ---  2.929923  3.035164 -3.589551    13  (   0.5%  )\n",
       "IonoFreeL_1P_2P included  ---  0.004775  0.026111 -0.021730  2378  (  98.7%  )\n",
       "                deleted   ---  0.174309  0.309614 -0.669919    32  (   1.3%  )"
      ]
     },
     "execution_count": 84,
     "metadata": {},
     "output_type": "execute_result"
    }
   ],
   "source": [
    "pd.read_csv(file,skiprows=[0,1,2,3,4,7,10,11,12,13],header=None,delim_whitespace=True).set_index([1,2])"
   ]
  },
  {
   "cell_type": "code",
   "execution_count": null,
   "metadata": {},
   "outputs": [],
   "source": [
    "pd.read_fwf()"
   ]
  },
  {
   "cell_type": "code",
   "execution_count": 87,
   "metadata": {
    "ExecuteTime": {
     "end_time": "2018-10-12T05:17:51.531265Z",
     "start_time": "2018-10-12T05:17:51.520541Z"
    }
   },
   "outputs": [],
   "source": [
    "test_rms = pd.read_fwf(file, colspecs=[[6,21],[24,34],[37,50],[53,66],[69,82],[88,103]], skiprows=[0,1,2,3,7,10,11,12,13,14]).set_index(['DataType','Status'])\n",
    "# test_rms"
   ]
  },
  {
   "cell_type": "code",
   "execution_count": 99,
   "metadata": {
    "ExecuteTime": {
     "end_time": "2018-10-12T05:23:01.842972Z",
     "start_time": "2018-10-12T05:23:01.830877Z"
    }
   },
   "outputs": [
    {
     "data": {
      "text/html": [
       "<div>\n",
       "<style scoped>\n",
       "    .dataframe tbody tr th:only-of-type {\n",
       "        vertical-align: middle;\n",
       "    }\n",
       "\n",
       "    .dataframe tbody tr th {\n",
       "        vertical-align: top;\n",
       "    }\n",
       "\n",
       "    .dataframe thead th {\n",
       "        text-align: right;\n",
       "    }\n",
       "</style>\n",
       "<table border=\"1\" class=\"dataframe\">\n",
       "  <thead>\n",
       "    <tr style=\"text-align: right;\">\n",
       "      <th></th>\n",
       "      <th></th>\n",
       "      <th>RMS (m)</th>\n",
       "      <th>Max (m)</th>\n",
       "      <th>Min (m)</th>\n",
       "      <th>number (%)</th>\n",
       "    </tr>\n",
       "    <tr>\n",
       "      <th>DataType</th>\n",
       "      <th>Status</th>\n",
       "      <th></th>\n",
       "      <th></th>\n",
       "      <th></th>\n",
       "      <th></th>\n",
       "    </tr>\n",
       "  </thead>\n",
       "  <tbody>\n",
       "    <tr>\n",
       "      <th rowspan=\"2\" valign=\"top\">IonoFreeC_1P_2P</th>\n",
       "      <th>included</th>\n",
       "      <td>-0.503520</td>\n",
       "      <td>-2.479113</td>\n",
       "      <td>-2.466010</td>\n",
       "      <td>2397 (  99.5% )</td>\n",
       "    </tr>\n",
       "    <tr>\n",
       "      <th>deleted</th>\n",
       "      <td>2.929923</td>\n",
       "      <td>3.035164</td>\n",
       "      <td>-3.589551</td>\n",
       "      <td>13 (   0.5% )</td>\n",
       "    </tr>\n",
       "    <tr>\n",
       "      <th rowspan=\"2\" valign=\"top\">IonoFreeL_1P_2P</th>\n",
       "      <th>included</th>\n",
       "      <td>0.004775</td>\n",
       "      <td>0.026111</td>\n",
       "      <td>-0.021730</td>\n",
       "      <td>2378 (  98.7% )</td>\n",
       "    </tr>\n",
       "    <tr>\n",
       "      <th>deleted</th>\n",
       "      <td>0.174309</td>\n",
       "      <td>0.309614</td>\n",
       "      <td>-0.669919</td>\n",
       "      <td>32 (   1.3% )</td>\n",
       "    </tr>\n",
       "  </tbody>\n",
       "</table>\n",
       "</div>"
      ],
      "text/plain": [
       "                           RMS (m)   Max (m)   Min (m)       number (%)\n",
       "DataType        Status                                                 \n",
       "IonoFreeC_1P_2P included -0.503520 -2.479113 -2.466010  2397 (  99.5% )\n",
       "                deleted   2.929923  3.035164 -3.589551    13 (   0.5% )\n",
       "IonoFreeL_1P_2P included  0.004775  0.026111 -0.021730  2378 (  98.7% )\n",
       "                deleted   0.174309  0.309614 -0.669919    32 (   1.3% )"
      ]
     },
     "execution_count": 99,
     "metadata": {},
     "output_type": "execute_result"
    }
   ],
   "source": [
    "test_rms"
   ]
  },
  {
   "cell_type": "code",
   "execution_count": 101,
   "metadata": {
    "ExecuteTime": {
     "end_time": "2018-10-12T05:23:29.357610Z",
     "start_time": "2018-10-12T05:23:29.347439Z"
    }
   },
   "outputs": [
    {
     "data": {
      "text/html": [
       "<div>\n",
       "<style scoped>\n",
       "    .dataframe tbody tr th:only-of-type {\n",
       "        vertical-align: middle;\n",
       "    }\n",
       "\n",
       "    .dataframe tbody tr th {\n",
       "        vertical-align: top;\n",
       "    }\n",
       "\n",
       "    .dataframe thead th {\n",
       "        text-align: right;\n",
       "    }\n",
       "</style>\n",
       "<table border=\"1\" class=\"dataframe\">\n",
       "  <thead>\n",
       "    <tr style=\"text-align: right;\">\n",
       "      <th></th>\n",
       "      <th>RMS (m)</th>\n",
       "      <th>Max (m)</th>\n",
       "      <th>Min (m)</th>\n",
       "      <th>number (%)</th>\n",
       "    </tr>\n",
       "    <tr>\n",
       "      <th>Status</th>\n",
       "      <th></th>\n",
       "      <th></th>\n",
       "      <th></th>\n",
       "      <th></th>\n",
       "    </tr>\n",
       "  </thead>\n",
       "  <tbody>\n",
       "    <tr>\n",
       "      <th>included</th>\n",
       "      <td>-0.503520</td>\n",
       "      <td>-2.479113</td>\n",
       "      <td>-2.466010</td>\n",
       "      <td>2397 (  99.5% )</td>\n",
       "    </tr>\n",
       "    <tr>\n",
       "      <th>deleted</th>\n",
       "      <td>2.929923</td>\n",
       "      <td>3.035164</td>\n",
       "      <td>-3.589551</td>\n",
       "      <td>13 (   0.5% )</td>\n",
       "    </tr>\n",
       "  </tbody>\n",
       "</table>\n",
       "</div>"
      ],
      "text/plain": [
       "           RMS (m)   Max (m)   Min (m)       number (%)\n",
       "Status                                                 \n",
       "included -0.503520 -2.479113 -2.466010  2397 (  99.5% )\n",
       "deleted   2.929923  3.035164 -3.589551    13 (   0.5% )"
      ]
     },
     "execution_count": 101,
     "metadata": {},
     "output_type": "execute_result"
    }
   ],
   "source": [
    "test_rms.loc['IonoFreeC_1P_2P']"
   ]
  },
  {
   "cell_type": "code",
   "execution_count": 78,
   "metadata": {
    "ExecuteTime": {
     "end_time": "2018-10-12T05:14:02.762997Z",
     "start_time": "2018-10-12T05:14:02.757766Z"
    }
   },
   "outputs": [
    {
     "data": {
      "text/plain": [
       "FrozenList(['DataType', 'Status'])"
      ]
     },
     "execution_count": 78,
     "metadata": {},
     "output_type": "execute_result"
    }
   ],
   "source": [
    "test_rms.index.names"
   ]
  },
  {
   "cell_type": "code",
   "execution_count": 80,
   "metadata": {
    "ExecuteTime": {
     "end_time": "2018-10-12T05:14:31.719824Z",
     "start_time": "2018-10-12T05:14:31.685783Z"
    }
   },
   "outputs": [
    {
     "ename": "KeyError",
     "evalue": "('DataType', 'IonoFreeC_1P_2P')",
     "output_type": "error",
     "traceback": [
      "\u001b[0;31m---------------------------------------------------------------------------\u001b[0m",
      "\u001b[0;31mKeyError\u001b[0m                                  Traceback (most recent call last)",
      "\u001b[0;32m~/miniconda3/envs/py35/lib/python3.5/site-packages/pandas/core/indexes/base.py\u001b[0m in \u001b[0;36mget_loc\u001b[0;34m(self, key, method, tolerance)\u001b[0m\n\u001b[1;32m   2521\u001b[0m             \u001b[0;32mtry\u001b[0m\u001b[0;34m:\u001b[0m\u001b[0;34m\u001b[0m\u001b[0m\n\u001b[0;32m-> 2522\u001b[0;31m                 \u001b[0;32mreturn\u001b[0m \u001b[0mself\u001b[0m\u001b[0;34m.\u001b[0m\u001b[0m_engine\u001b[0m\u001b[0;34m.\u001b[0m\u001b[0mget_loc\u001b[0m\u001b[0;34m(\u001b[0m\u001b[0mkey\u001b[0m\u001b[0;34m)\u001b[0m\u001b[0;34m\u001b[0m\u001b[0m\n\u001b[0m\u001b[1;32m   2523\u001b[0m             \u001b[0;32mexcept\u001b[0m \u001b[0mKeyError\u001b[0m\u001b[0;34m:\u001b[0m\u001b[0;34m\u001b[0m\u001b[0m\n",
      "\u001b[0;32mpandas/_libs/index.pyx\u001b[0m in \u001b[0;36mpandas._libs.index.IndexEngine.get_loc\u001b[0;34m()\u001b[0m\n",
      "\u001b[0;32mpandas/_libs/index.pyx\u001b[0m in \u001b[0;36mpandas._libs.index.IndexEngine.get_loc\u001b[0;34m()\u001b[0m\n",
      "\u001b[0;32mpandas/_libs/hashtable_class_helper.pxi\u001b[0m in \u001b[0;36mpandas._libs.hashtable.PyObjectHashTable.get_item\u001b[0;34m()\u001b[0m\n",
      "\u001b[0;32mpandas/_libs/hashtable_class_helper.pxi\u001b[0m in \u001b[0;36mpandas._libs.hashtable.PyObjectHashTable.get_item\u001b[0;34m()\u001b[0m\n",
      "\u001b[0;31mKeyError\u001b[0m: ('DataType', 'IonoFreeC_1P_2P')",
      "\nDuring handling of the above exception, another exception occurred:\n",
      "\u001b[0;31mKeyError\u001b[0m                                  Traceback (most recent call last)",
      "\u001b[0;32m<ipython-input-80-eec5d169d4a4>\u001b[0m in \u001b[0;36m<module>\u001b[0;34m()\u001b[0m\n\u001b[0;32m----> 1\u001b[0;31m \u001b[0mtest_rms\u001b[0m\u001b[0;34m[\u001b[0m\u001b[0;34m'DataType'\u001b[0m\u001b[0;34m,\u001b[0m\u001b[0;34m'IonoFreeC_1P_2P'\u001b[0m\u001b[0;34m]\u001b[0m\u001b[0;34m\u001b[0m\u001b[0m\n\u001b[0m",
      "\u001b[0;32m~/miniconda3/envs/py35/lib/python3.5/site-packages/pandas/core/frame.py\u001b[0m in \u001b[0;36m__getitem__\u001b[0;34m(self, key)\u001b[0m\n\u001b[1;32m   2137\u001b[0m             \u001b[0;32mreturn\u001b[0m \u001b[0mself\u001b[0m\u001b[0;34m.\u001b[0m\u001b[0m_getitem_multilevel\u001b[0m\u001b[0;34m(\u001b[0m\u001b[0mkey\u001b[0m\u001b[0;34m)\u001b[0m\u001b[0;34m\u001b[0m\u001b[0m\n\u001b[1;32m   2138\u001b[0m         \u001b[0;32melse\u001b[0m\u001b[0;34m:\u001b[0m\u001b[0;34m\u001b[0m\u001b[0m\n\u001b[0;32m-> 2139\u001b[0;31m             \u001b[0;32mreturn\u001b[0m \u001b[0mself\u001b[0m\u001b[0;34m.\u001b[0m\u001b[0m_getitem_column\u001b[0m\u001b[0;34m(\u001b[0m\u001b[0mkey\u001b[0m\u001b[0;34m)\u001b[0m\u001b[0;34m\u001b[0m\u001b[0m\n\u001b[0m\u001b[1;32m   2140\u001b[0m \u001b[0;34m\u001b[0m\u001b[0m\n\u001b[1;32m   2141\u001b[0m     \u001b[0;32mdef\u001b[0m \u001b[0m_getitem_column\u001b[0m\u001b[0;34m(\u001b[0m\u001b[0mself\u001b[0m\u001b[0;34m,\u001b[0m \u001b[0mkey\u001b[0m\u001b[0;34m)\u001b[0m\u001b[0;34m:\u001b[0m\u001b[0;34m\u001b[0m\u001b[0m\n",
      "\u001b[0;32m~/miniconda3/envs/py35/lib/python3.5/site-packages/pandas/core/frame.py\u001b[0m in \u001b[0;36m_getitem_column\u001b[0;34m(self, key)\u001b[0m\n\u001b[1;32m   2144\u001b[0m         \u001b[0;31m# get column\u001b[0m\u001b[0;34m\u001b[0m\u001b[0;34m\u001b[0m\u001b[0m\n\u001b[1;32m   2145\u001b[0m         \u001b[0;32mif\u001b[0m \u001b[0mself\u001b[0m\u001b[0;34m.\u001b[0m\u001b[0mcolumns\u001b[0m\u001b[0;34m.\u001b[0m\u001b[0mis_unique\u001b[0m\u001b[0;34m:\u001b[0m\u001b[0;34m\u001b[0m\u001b[0m\n\u001b[0;32m-> 2146\u001b[0;31m             \u001b[0;32mreturn\u001b[0m \u001b[0mself\u001b[0m\u001b[0;34m.\u001b[0m\u001b[0m_get_item_cache\u001b[0m\u001b[0;34m(\u001b[0m\u001b[0mkey\u001b[0m\u001b[0;34m)\u001b[0m\u001b[0;34m\u001b[0m\u001b[0m\n\u001b[0m\u001b[1;32m   2147\u001b[0m \u001b[0;34m\u001b[0m\u001b[0m\n\u001b[1;32m   2148\u001b[0m         \u001b[0;31m# duplicate columns & possible reduce dimensionality\u001b[0m\u001b[0;34m\u001b[0m\u001b[0;34m\u001b[0m\u001b[0m\n",
      "\u001b[0;32m~/miniconda3/envs/py35/lib/python3.5/site-packages/pandas/core/generic.py\u001b[0m in \u001b[0;36m_get_item_cache\u001b[0;34m(self, item)\u001b[0m\n\u001b[1;32m   1840\u001b[0m         \u001b[0mres\u001b[0m \u001b[0;34m=\u001b[0m \u001b[0mcache\u001b[0m\u001b[0;34m.\u001b[0m\u001b[0mget\u001b[0m\u001b[0;34m(\u001b[0m\u001b[0mitem\u001b[0m\u001b[0;34m)\u001b[0m\u001b[0;34m\u001b[0m\u001b[0m\n\u001b[1;32m   1841\u001b[0m         \u001b[0;32mif\u001b[0m \u001b[0mres\u001b[0m \u001b[0;32mis\u001b[0m \u001b[0;32mNone\u001b[0m\u001b[0;34m:\u001b[0m\u001b[0;34m\u001b[0m\u001b[0m\n\u001b[0;32m-> 1842\u001b[0;31m             \u001b[0mvalues\u001b[0m \u001b[0;34m=\u001b[0m \u001b[0mself\u001b[0m\u001b[0;34m.\u001b[0m\u001b[0m_data\u001b[0m\u001b[0;34m.\u001b[0m\u001b[0mget\u001b[0m\u001b[0;34m(\u001b[0m\u001b[0mitem\u001b[0m\u001b[0;34m)\u001b[0m\u001b[0;34m\u001b[0m\u001b[0m\n\u001b[0m\u001b[1;32m   1843\u001b[0m             \u001b[0mres\u001b[0m \u001b[0;34m=\u001b[0m \u001b[0mself\u001b[0m\u001b[0;34m.\u001b[0m\u001b[0m_box_item_values\u001b[0m\u001b[0;34m(\u001b[0m\u001b[0mitem\u001b[0m\u001b[0;34m,\u001b[0m \u001b[0mvalues\u001b[0m\u001b[0;34m)\u001b[0m\u001b[0;34m\u001b[0m\u001b[0m\n\u001b[1;32m   1844\u001b[0m             \u001b[0mcache\u001b[0m\u001b[0;34m[\u001b[0m\u001b[0mitem\u001b[0m\u001b[0;34m]\u001b[0m \u001b[0;34m=\u001b[0m \u001b[0mres\u001b[0m\u001b[0;34m\u001b[0m\u001b[0m\n",
      "\u001b[0;32m~/miniconda3/envs/py35/lib/python3.5/site-packages/pandas/core/internals.py\u001b[0m in \u001b[0;36mget\u001b[0;34m(self, item, fastpath)\u001b[0m\n\u001b[1;32m   3836\u001b[0m \u001b[0;34m\u001b[0m\u001b[0m\n\u001b[1;32m   3837\u001b[0m             \u001b[0;32mif\u001b[0m \u001b[0;32mnot\u001b[0m \u001b[0misna\u001b[0m\u001b[0;34m(\u001b[0m\u001b[0mitem\u001b[0m\u001b[0;34m)\u001b[0m\u001b[0;34m:\u001b[0m\u001b[0;34m\u001b[0m\u001b[0m\n\u001b[0;32m-> 3838\u001b[0;31m                 \u001b[0mloc\u001b[0m \u001b[0;34m=\u001b[0m \u001b[0mself\u001b[0m\u001b[0;34m.\u001b[0m\u001b[0mitems\u001b[0m\u001b[0;34m.\u001b[0m\u001b[0mget_loc\u001b[0m\u001b[0;34m(\u001b[0m\u001b[0mitem\u001b[0m\u001b[0;34m)\u001b[0m\u001b[0;34m\u001b[0m\u001b[0m\n\u001b[0m\u001b[1;32m   3839\u001b[0m             \u001b[0;32melse\u001b[0m\u001b[0;34m:\u001b[0m\u001b[0;34m\u001b[0m\u001b[0m\n\u001b[1;32m   3840\u001b[0m                 \u001b[0mindexer\u001b[0m \u001b[0;34m=\u001b[0m \u001b[0mnp\u001b[0m\u001b[0;34m.\u001b[0m\u001b[0marange\u001b[0m\u001b[0;34m(\u001b[0m\u001b[0mlen\u001b[0m\u001b[0;34m(\u001b[0m\u001b[0mself\u001b[0m\u001b[0;34m.\u001b[0m\u001b[0mitems\u001b[0m\u001b[0;34m)\u001b[0m\u001b[0;34m)\u001b[0m\u001b[0;34m[\u001b[0m\u001b[0misna\u001b[0m\u001b[0;34m(\u001b[0m\u001b[0mself\u001b[0m\u001b[0;34m.\u001b[0m\u001b[0mitems\u001b[0m\u001b[0;34m)\u001b[0m\u001b[0;34m]\u001b[0m\u001b[0;34m\u001b[0m\u001b[0m\n",
      "\u001b[0;32m~/miniconda3/envs/py35/lib/python3.5/site-packages/pandas/core/indexes/base.py\u001b[0m in \u001b[0;36mget_loc\u001b[0;34m(self, key, method, tolerance)\u001b[0m\n\u001b[1;32m   2522\u001b[0m                 \u001b[0;32mreturn\u001b[0m \u001b[0mself\u001b[0m\u001b[0;34m.\u001b[0m\u001b[0m_engine\u001b[0m\u001b[0;34m.\u001b[0m\u001b[0mget_loc\u001b[0m\u001b[0;34m(\u001b[0m\u001b[0mkey\u001b[0m\u001b[0;34m)\u001b[0m\u001b[0;34m\u001b[0m\u001b[0m\n\u001b[1;32m   2523\u001b[0m             \u001b[0;32mexcept\u001b[0m \u001b[0mKeyError\u001b[0m\u001b[0;34m:\u001b[0m\u001b[0;34m\u001b[0m\u001b[0m\n\u001b[0;32m-> 2524\u001b[0;31m                 \u001b[0;32mreturn\u001b[0m \u001b[0mself\u001b[0m\u001b[0;34m.\u001b[0m\u001b[0m_engine\u001b[0m\u001b[0;34m.\u001b[0m\u001b[0mget_loc\u001b[0m\u001b[0;34m(\u001b[0m\u001b[0mself\u001b[0m\u001b[0;34m.\u001b[0m\u001b[0m_maybe_cast_indexer\u001b[0m\u001b[0;34m(\u001b[0m\u001b[0mkey\u001b[0m\u001b[0;34m)\u001b[0m\u001b[0;34m)\u001b[0m\u001b[0;34m\u001b[0m\u001b[0m\n\u001b[0m\u001b[1;32m   2525\u001b[0m \u001b[0;34m\u001b[0m\u001b[0m\n\u001b[1;32m   2526\u001b[0m         \u001b[0mindexer\u001b[0m \u001b[0;34m=\u001b[0m \u001b[0mself\u001b[0m\u001b[0;34m.\u001b[0m\u001b[0mget_indexer\u001b[0m\u001b[0;34m(\u001b[0m\u001b[0;34m[\u001b[0m\u001b[0mkey\u001b[0m\u001b[0;34m]\u001b[0m\u001b[0;34m,\u001b[0m \u001b[0mmethod\u001b[0m\u001b[0;34m=\u001b[0m\u001b[0mmethod\u001b[0m\u001b[0;34m,\u001b[0m \u001b[0mtolerance\u001b[0m\u001b[0;34m=\u001b[0m\u001b[0mtolerance\u001b[0m\u001b[0;34m)\u001b[0m\u001b[0;34m\u001b[0m\u001b[0m\n",
      "\u001b[0;32mpandas/_libs/index.pyx\u001b[0m in \u001b[0;36mpandas._libs.index.IndexEngine.get_loc\u001b[0;34m()\u001b[0m\n",
      "\u001b[0;32mpandas/_libs/index.pyx\u001b[0m in \u001b[0;36mpandas._libs.index.IndexEngine.get_loc\u001b[0;34m()\u001b[0m\n",
      "\u001b[0;32mpandas/_libs/hashtable_class_helper.pxi\u001b[0m in \u001b[0;36mpandas._libs.hashtable.PyObjectHashTable.get_item\u001b[0;34m()\u001b[0m\n",
      "\u001b[0;32mpandas/_libs/hashtable_class_helper.pxi\u001b[0m in \u001b[0;36mpandas._libs.hashtable.PyObjectHashTable.get_item\u001b[0;34m()\u001b[0m\n",
      "\u001b[0;31mKeyError\u001b[0m: ('DataType', 'IonoFreeC_1P_2P')"
     ]
    }
   ],
   "source": [
    "test_rms['DataType','IonoFreeC_1P_2P']"
   ]
  },
  {
   "cell_type": "code",
   "execution_count": 175,
   "metadata": {
    "ExecuteTime": {
     "end_time": "2018-10-12T06:58:37.819675Z",
     "start_time": "2018-10-12T06:58:37.805719Z"
    }
   },
   "outputs": [],
   "source": [
    "res_out_file = '/home/bogdanm/Desktop/test/finalResiduals.out'\n",
    "csv_header = ['Time','T/R Antenna No','DataType','PF Residual (m)','Elevation from receiver (deg)',\\\n",
    "                ' Azimuth from receiver (deg)','Elevation from transmitter (deg)',' Azimuth from transmitter (deg)','Status']\n",
    "postfitRes = pd.read_table(res_out_file,delim_whitespace=True,header=None,names=csv_header)\n",
    "# postfitRes['Status'] [0] is pd.None"
   ]
  },
  {
   "cell_type": "code",
   "execution_count": 176,
   "metadata": {
    "ExecuteTime": {
     "end_time": "2018-10-12T06:58:38.457787Z",
     "start_time": "2018-10-12T06:58:38.452891Z"
    }
   },
   "outputs": [],
   "source": [
    "postfitRes.set_index(['DataType','Time'],inplace=True)"
   ]
  },
  {
   "cell_type": "code",
   "execution_count": 179,
   "metadata": {
    "ExecuteTime": {
     "end_time": "2018-10-12T06:59:41.717777Z",
     "start_time": "2018-10-12T06:59:41.708592Z"
    }
   },
   "outputs": [
    {
     "data": {
      "text/plain": [
       "Time\n",
       "94819200    -83.255479\n",
       "94833600     49.077280\n",
       "94833900    -84.162152\n",
       "94834200    -73.221824\n",
       "94834200     55.612490\n",
       "94834200     29.493621\n",
       "94834500    -60.577727\n",
       "94834500    -81.146273\n",
       "94835100   -155.194130\n",
       "94835100    -94.230505\n",
       "94835100    -66.400920\n",
       "94836900   -669.918511\n",
       "94836900    217.219776\n",
       "94836900   -440.508842\n",
       "94836900    309.614037\n",
       "94837500    -69.175179\n",
       "94837500     63.742135\n",
       "94837800    -40.498472\n",
       "94837800     67.271444\n",
       "94838100    -95.621431\n",
       "94838700     67.061557\n",
       "94839000     25.746511\n",
       "94839000    -73.434588\n",
       "94839300     50.851530\n",
       "94839300    -71.537079\n",
       "94839600    111.231925\n",
       "94839900      7.083778\n",
       "94839900    -79.278413\n",
       "94845900     59.910312\n",
       "94870500     40.057443\n",
       "94870500    213.535794\n",
       "94870500     33.146237\n",
       "Name: PF Residual (m), dtype: float64"
      ]
     },
     "execution_count": 179,
     "metadata": {},
     "output_type": "execute_result"
    }
   ],
   "source": [
    "postfitRes[pd.notna(postfitRes['Status'])].loc['IonoFreeL_1P_2P']['PF Residual (m)']*1000"
   ]
  },
  {
   "cell_type": "code",
   "execution_count": 193,
   "metadata": {
    "ExecuteTime": {
     "end_time": "2018-10-12T07:05:05.915546Z",
     "start_time": "2018-10-12T07:05:05.899162Z"
    }
   },
   "outputs": [
    {
     "data": {
      "text/plain": [
       "4.774988258547846"
      ]
     },
     "execution_count": 193,
     "metadata": {},
     "output_type": "execute_result"
    }
   ],
   "source": [
    "L_residual = postfitRes[postfitRes['Status'].isna()].loc['IonoFreeL_1P_2P']['PF Residual (m)']\n",
    "(((L_residual**2).sum())/L_residual.count())**0.5 * 1000"
   ]
  },
  {
   "cell_type": "code",
   "execution_count": 198,
   "metadata": {
    "ExecuteTime": {
     "end_time": "2018-10-12T08:38:39.699460Z",
     "start_time": "2018-10-12T08:38:39.695790Z"
    }
   },
   "outputs": [],
   "source": [
    "import numpy as _np\n",
    "import pandas as _pd"
   ]
  },
  {
   "cell_type": "code",
   "execution_count": 214,
   "metadata": {
    "ExecuteTime": {
     "end_time": "2018-10-12T09:00:24.361602Z",
     "start_time": "2018-10-12T09:00:24.351396Z"
    }
   },
   "outputs": [],
   "source": [
    "\n",
    "def read_finalResiduals(path_dir):\n",
    "    finalResiduals_path = path_dir + '/finalResiduals.out'\n",
    "    csv_header = ['Time','T/R Antenna No','DataType','PF Residual (m)','Elevation from receiver (deg)',\\\n",
    "                    ' Azimuth from receiver (deg)','Elevation from transmitter (deg)',' Azimuth from transmitter (deg)','Status']\n",
    "    finalResiduals = _pd.read_table(finalResiduals_path,delim_whitespace=True,header=None,names=csv_header)\n",
    "    return finalResiduals.values\n"
   ]
  },
  {
   "cell_type": "code",
   "execution_count": 213,
   "metadata": {
    "ExecuteTime": {
     "end_time": "2018-10-12T08:55:27.500389Z",
     "start_time": "2018-10-12T08:55:27.483422Z"
    }
   },
   "outputs": [
    {
     "data": {
      "text/html": [
       "<div>\n",
       "<style scoped>\n",
       "    .dataframe tbody tr th:only-of-type {\n",
       "        vertical-align: middle;\n",
       "    }\n",
       "\n",
       "    .dataframe tbody tr th {\n",
       "        vertical-align: top;\n",
       "    }\n",
       "\n",
       "    .dataframe thead th {\n",
       "        text-align: right;\n",
       "    }\n",
       "</style>\n",
       "<table border=\"1\" class=\"dataframe\">\n",
       "  <thead>\n",
       "    <tr style=\"text-align: right;\">\n",
       "      <th></th>\n",
       "      <th></th>\n",
       "      <th>RMS (m)</th>\n",
       "      <th>Max (m)</th>\n",
       "      <th>Min (m)</th>\n",
       "      <th>number (%)</th>\n",
       "    </tr>\n",
       "    <tr>\n",
       "      <th>DataType</th>\n",
       "      <th>Status</th>\n",
       "      <th></th>\n",
       "      <th></th>\n",
       "      <th></th>\n",
       "      <th></th>\n",
       "    </tr>\n",
       "  </thead>\n",
       "  <tbody>\n",
       "    <tr>\n",
       "      <th rowspan=\"2\" valign=\"top\">IonoFreeC_1P_2P</th>\n",
       "      <th>included</th>\n",
       "      <td>-0.503520</td>\n",
       "      <td>-2.479113</td>\n",
       "      <td>-2.466010</td>\n",
       "      <td>2397 (  99.5% )</td>\n",
       "    </tr>\n",
       "    <tr>\n",
       "      <th>deleted</th>\n",
       "      <td>2.929923</td>\n",
       "      <td>3.035164</td>\n",
       "      <td>-3.589551</td>\n",
       "      <td>13 (   0.5% )</td>\n",
       "    </tr>\n",
       "    <tr>\n",
       "      <th rowspan=\"2\" valign=\"top\">IonoFreeL_1P_2P</th>\n",
       "      <th>included</th>\n",
       "      <td>0.004775</td>\n",
       "      <td>0.026111</td>\n",
       "      <td>-0.021730</td>\n",
       "      <td>2378 (  98.7% )</td>\n",
       "    </tr>\n",
       "    <tr>\n",
       "      <th>deleted</th>\n",
       "      <td>0.174309</td>\n",
       "      <td>0.309614</td>\n",
       "      <td>-0.669919</td>\n",
       "      <td>32 (   1.3% )</td>\n",
       "    </tr>\n",
       "  </tbody>\n",
       "</table>\n",
       "</div>"
      ],
      "text/plain": [
       "                           RMS (m)   Max (m)   Min (m)       number (%)\n",
       "DataType        Status                                                 \n",
       "IonoFreeC_1P_2P included -0.503520 -2.479113 -2.466010  2397 (  99.5% )\n",
       "                deleted   2.929923  3.035164 -3.589551    13 (   0.5% )\n",
       "IonoFreeL_1P_2P included  0.004775  0.026111 -0.021730  2378 (  98.7% )\n",
       "                deleted   0.174309  0.309614 -0.669919    32 (   1.3% )"
      ]
     },
     "execution_count": 213,
     "metadata": {},
     "output_type": "execute_result"
    }
   ],
   "source": [
    "pd.read_fwf(file, colspecs=[[6,21],[24,34],[37,50],[53,66],[69,82],[88,103]], skiprows=[0,1,2,3,7,10,11,12,13,14]).set_index(['DataType','Status'])"
   ]
  },
  {
   "cell_type": "code",
   "execution_count": null,
   "metadata": {},
   "outputs": [],
   "source": []
  },
  {
   "cell_type": "code",
   "execution_count": 228,
   "metadata": {
    "ExecuteTime": {
     "end_time": "2018-10-12T09:07:49.501922Z",
     "start_time": "2018-10-12T09:07:49.491657Z"
    }
   },
   "outputs": [
    {
     "data": {
      "text/plain": [
       "0.0047749882585478454"
      ]
     },
     "execution_count": 228,
     "metadata": {},
     "output_type": "execute_result"
    }
   ],
   "source": [
    "RMS_res(a)"
   ]
  },
  {
   "cell_type": "code",
   "execution_count": 215,
   "metadata": {
    "ExecuteTime": {
     "end_time": "2018-10-12T09:00:33.949181Z",
     "start_time": "2018-10-12T09:00:33.929394Z"
    }
   },
   "outputs": [],
   "source": [
    "\n",
    "a = read_finalResiduals('/home/bogdanm/Desktop/test')"
   ]
  },
  {
   "cell_type": "code",
   "execution_count": 216,
   "metadata": {
    "ExecuteTime": {
     "end_time": "2018-10-12T09:00:34.607793Z",
     "start_time": "2018-10-12T09:00:34.604237Z"
    }
   },
   "outputs": [
    {
     "data": {
      "text/plain": [
       "array([[94813500, '{GPS51(1)-CAMB(1)}', 'IonoFreeL_1P_2P', ..., 81.5473,\n",
       "        47.5127, nan],\n",
       "       [94813500, '{GPS51(1)-CAMB(1)}', 'IonoFreeC_1P_2P', ..., 81.5473,\n",
       "        47.5127, nan],\n",
       "       [94813500, '{GPS46(1)-CAMB(1)}', 'IonoFreeL_1P_2P', ..., 88.5668,\n",
       "        204.61599999999999, nan],\n",
       "       ...,\n",
       "       [94920900, '{GPS24(1)-CAMB(1)}', 'IonoFreeC_1P_2P', ..., 81.0961,\n",
       "        185.942, nan],\n",
       "       [94920900, '{GPS13(1)-CAMB(1)}', 'IonoFreeL_1P_2P', ..., 76.6723,\n",
       "        200.72400000000002, nan],\n",
       "       [94920900, '{GPS13(1)-CAMB(1)}', 'IonoFreeC_1P_2P', ..., 76.6723,\n",
       "        200.72400000000002, nan]], dtype=object)"
      ]
     },
     "execution_count": 216,
     "metadata": {},
     "output_type": "execute_result"
    }
   ],
   "source": [
    "a"
   ]
  },
  {
   "cell_type": "code",
   "execution_count": 150,
   "metadata": {
    "ExecuteTime": {
     "end_time": "2018-10-12T06:51:23.700607Z",
     "start_time": "2018-10-12T06:51:23.692548Z"
    }
   },
   "outputs": [
    {
     "data": {
      "text/html": [
       "<div>\n",
       "<style scoped>\n",
       "    .dataframe tbody tr th:only-of-type {\n",
       "        vertical-align: middle;\n",
       "    }\n",
       "\n",
       "    .dataframe tbody tr th {\n",
       "        vertical-align: top;\n",
       "    }\n",
       "\n",
       "    .dataframe thead th {\n",
       "        text-align: right;\n",
       "    }\n",
       "</style>\n",
       "<table border=\"1\" class=\"dataframe\">\n",
       "  <thead>\n",
       "    <tr style=\"text-align: right;\">\n",
       "      <th></th>\n",
       "      <th></th>\n",
       "      <th>T/R Antenna No</th>\n",
       "      <th>PF Residual (m)</th>\n",
       "      <th>Elevation from receiver (deg)</th>\n",
       "      <th>Azimuth from receiver (deg)</th>\n",
       "      <th>Elevation from transmitter (deg)</th>\n",
       "      <th>Azimuth from transmitter (deg)</th>\n",
       "      <th>Status</th>\n",
       "    </tr>\n",
       "    <tr>\n",
       "      <th>DataType</th>\n",
       "      <th>Time</th>\n",
       "      <th></th>\n",
       "      <th></th>\n",
       "      <th></th>\n",
       "      <th></th>\n",
       "      <th></th>\n",
       "      <th></th>\n",
       "      <th></th>\n",
       "    </tr>\n",
       "  </thead>\n",
       "  <tbody>\n",
       "  </tbody>\n",
       "</table>\n",
       "</div>"
      ],
      "text/plain": [
       "Empty DataFrame\n",
       "Columns: [T/R Antenna No, PF Residual (m), Elevation from receiver (deg),  Azimuth from receiver (deg), Elevation from transmitter (deg),  Azimuth from transmitter (deg), Status]\n",
       "Index: []"
      ]
     },
     "execution_count": 150,
     "metadata": {},
     "output_type": "execute_result"
    }
   ],
   "source": [
    "postfitRes[postfitRes['Status'] == 'Deleted']"
   ]
  },
  {
   "cell_type": "code",
   "execution_count": 151,
   "metadata": {
    "ExecuteTime": {
     "end_time": "2018-10-12T06:52:05.005737Z",
     "start_time": "2018-10-12T06:52:04.996522Z"
    }
   },
   "outputs": [
    {
     "data": {
      "text/plain": [
       "DataType         Time    \n",
       "IonoFreeL_1P_2P  94813500    NaN\n",
       "IonoFreeC_1P_2P  94813500    NaN\n",
       "IonoFreeL_1P_2P  94813500    NaN\n",
       "IonoFreeC_1P_2P  94813500    NaN\n",
       "IonoFreeL_1P_2P  94813500    NaN\n",
       "IonoFreeC_1P_2P  94813500    NaN\n",
       "IonoFreeL_1P_2P  94813500    NaN\n",
       "IonoFreeC_1P_2P  94813500    NaN\n",
       "IonoFreeL_1P_2P  94813500    NaN\n",
       "IonoFreeC_1P_2P  94813500    NaN\n",
       "IonoFreeL_1P_2P  94813500    NaN\n",
       "IonoFreeC_1P_2P  94813500    NaN\n",
       "IonoFreeL_1P_2P  94813800    NaN\n",
       "IonoFreeC_1P_2P  94813800    NaN\n",
       "IonoFreeL_1P_2P  94813800    NaN\n",
       "IonoFreeC_1P_2P  94813800    NaN\n",
       "IonoFreeL_1P_2P  94813800    NaN\n",
       "IonoFreeC_1P_2P  94813800    NaN\n",
       "IonoFreeL_1P_2P  94813800    NaN\n",
       "IonoFreeC_1P_2P  94813800    NaN\n",
       "IonoFreeL_1P_2P  94813800    NaN\n",
       "IonoFreeC_1P_2P  94813800    NaN\n",
       "IonoFreeL_1P_2P  94813800    NaN\n",
       "IonoFreeC_1P_2P  94813800    NaN\n",
       "IonoFreeL_1P_2P  94814100    NaN\n",
       "IonoFreeC_1P_2P  94814100    NaN\n",
       "IonoFreeL_1P_2P  94814100    NaN\n",
       "IonoFreeC_1P_2P  94814100    NaN\n",
       "IonoFreeL_1P_2P  94814100    NaN\n",
       "IonoFreeC_1P_2P  94814100    NaN\n",
       "                            ... \n",
       "IonoFreeL_1P_2P  94920300    NaN\n",
       "IonoFreeC_1P_2P  94920300    NaN\n",
       "IonoFreeL_1P_2P  94920600    NaN\n",
       "IonoFreeC_1P_2P  94920600    NaN\n",
       "IonoFreeL_1P_2P  94920600    NaN\n",
       "IonoFreeC_1P_2P  94920600    NaN\n",
       "IonoFreeL_1P_2P  94920600    NaN\n",
       "IonoFreeC_1P_2P  94920600    NaN\n",
       "IonoFreeL_1P_2P  94920600    NaN\n",
       "IonoFreeC_1P_2P  94920600    NaN\n",
       "IonoFreeL_1P_2P  94920600    NaN\n",
       "IonoFreeC_1P_2P  94920600    NaN\n",
       "IonoFreeL_1P_2P  94920600    NaN\n",
       "IonoFreeC_1P_2P  94920600    NaN\n",
       "IonoFreeL_1P_2P  94920600    NaN\n",
       "IonoFreeC_1P_2P  94920600    NaN\n",
       "IonoFreeL_1P_2P  94920900    NaN\n",
       "IonoFreeC_1P_2P  94920900    NaN\n",
       "IonoFreeL_1P_2P  94920900    NaN\n",
       "IonoFreeC_1P_2P  94920900    NaN\n",
       "IonoFreeL_1P_2P  94920900    NaN\n",
       "IonoFreeC_1P_2P  94920900    NaN\n",
       "IonoFreeL_1P_2P  94920900    NaN\n",
       "IonoFreeC_1P_2P  94920900    NaN\n",
       "IonoFreeL_1P_2P  94920900    NaN\n",
       "IonoFreeC_1P_2P  94920900    NaN\n",
       "IonoFreeL_1P_2P  94920900    NaN\n",
       "IonoFreeC_1P_2P  94920900    NaN\n",
       "IonoFreeL_1P_2P  94920900    NaN\n",
       "IonoFreeC_1P_2P  94920900    NaN\n",
       "Name: Status, Length: 4820, dtype: object"
      ]
     },
     "execution_count": 151,
     "metadata": {},
     "output_type": "execute_result"
    }
   ],
   "source": []
  },
  {
   "cell_type": "code",
   "execution_count": 127,
   "metadata": {
    "ExecuteTime": {
     "end_time": "2018-10-12T06:07:00.223701Z",
     "start_time": "2018-10-12T06:07:00.095257Z"
    }
   },
   "outputs": [
    {
     "data": {
      "image/png": "[encoded data removed]",
      "text/plain": [
       "<Figure size 432x288 with 1 Axes>"
      ]
     },
     "metadata": {},
     "output_type": "display_data"
    }
   ],
   "source": [
    "(postfitRes.loc['IonoFreeL_1P_2P']['PF Residual (m)']*1000).plot()\n",
    "plt.show()"
   ]
  },
  {
   "cell_type": "code",
   "execution_count": 143,
   "metadata": {
    "ExecuteTime": {
     "end_time": "2018-10-12T06:48:33.777671Z",
     "start_time": "2018-10-12T06:48:33.769941Z"
    }
   },
   "outputs": [
    {
     "data": {
      "text/plain": [
       "Time\n",
       "94813500    0.004377\n",
       "94813500   -0.002319\n",
       "94813500   -0.004542\n",
       "94813500   -0.000065\n",
       "94813500    0.002820\n",
       "94813500   -0.000266\n",
       "94813800   -0.001504\n",
       "94813800    0.000891\n",
       "94813800    0.002521\n",
       "94813800    0.000514\n",
       "94813800   -0.002030\n",
       "94813800   -0.000516\n",
       "94814100    0.002289\n",
       "94814100   -0.001726\n",
       "94814100    0.005827\n",
       "94814100    0.004159\n",
       "94814100   -0.007148\n",
       "94814100    0.000163\n",
       "94814100   -0.003626\n",
       "94814400   -0.002829\n",
       "94814400    0.002586\n",
       "94814400    0.007535\n",
       "94814400    0.002254\n",
       "94814400   -0.006915\n",
       "94814400   -0.000381\n",
       "94814400   -0.002264\n",
       "94814700   -0.004999\n",
       "94814700    0.004816\n",
       "94814700    0.007369\n",
       "94814700    0.000856\n",
       "              ...   \n",
       "94920000    0.007390\n",
       "94920000    0.000756\n",
       "94920000   -0.006139\n",
       "94920000   -0.001683\n",
       "94920000    0.007350\n",
       "94920000    0.005833\n",
       "94920000   -0.007895\n",
       "94920000   -0.005459\n",
       "94920300    0.002880\n",
       "94920300    0.002434\n",
       "94920300   -0.000085\n",
       "94920300    0.000337\n",
       "94920300    0.004033\n",
       "94920300    0.004420\n",
       "94920300   -0.009605\n",
       "94920300   -0.004551\n",
       "94920600   -0.000062\n",
       "94920600   -0.000710\n",
       "94920600    0.000130\n",
       "94920600   -0.001789\n",
       "94920600   -0.002465\n",
       "94920600    0.003684\n",
       "94920600    0.001110\n",
       "94920900    0.001691\n",
       "94920900   -0.004498\n",
       "94920900   -0.008466\n",
       "94920900   -0.002457\n",
       "94920900    0.001251\n",
       "94920900    0.011277\n",
       "94920900    0.001171\n",
       "Name: PF Residual (m), Length: 2410, dtype: float64"
      ]
     },
     "execution_count": 143,
     "metadata": {},
     "output_type": "execute_result"
    }
   ],
   "source": [
    "residual = postfitRes.loc['IonoFreeL_1P_2P']['PF Residual (m)']\n",
    "residual"
   ]
  },
  {
   "cell_type": "code",
   "execution_count": 147,
   "metadata": {
    "ExecuteTime": {
     "end_time": "2018-10-12T06:49:38.272547Z",
     "start_time": "2018-10-12T06:49:38.267698Z"
    }
   },
   "outputs": [
    {
     "data": {
      "text/plain": [
       "20.638064015402698"
      ]
     },
     "execution_count": 147,
     "metadata": {},
     "output_type": "execute_result"
    }
   ],
   "source": [
    "(((residual**2).sum())/residual.count())**0.5 * 1000"
   ]
  },
  {
   "cell_type": "code",
   "execution_count": 145,
   "metadata": {
    "ExecuteTime": {
     "end_time": "2018-10-12T06:49:10.494381Z",
     "start_time": "2018-10-12T06:49:10.489754Z"
    }
   },
   "outputs": [
    {
     "name": "stderr",
     "output_type": "stream",
     "text": [
      "/home/bogdanm/miniconda3/envs/py35/lib/python3.5/site-packages/ipykernel_launcher.py:1: RuntimeWarning: invalid value encountered in double_scalars\n",
      "  \"\"\"Entry point for launching an IPython kernel.\n"
     ]
    },
    {
     "data": {
      "text/plain": [
       "nan"
      ]
     },
     "execution_count": 145,
     "metadata": {},
     "output_type": "execute_result"
    }
   ],
   "source": [
    "residual.mean()"
   ]
  },
  {
   "cell_type": "code",
   "execution_count": 122,
   "metadata": {
    "ExecuteTime": {
     "end_time": "2018-10-12T06:04:13.073833Z",
     "start_time": "2018-10-12T06:04:13.069377Z"
    }
   },
   "outputs": [
    {
     "data": {
      "text/plain": [
       "20.638064015402694"
      ]
     },
     "execution_count": 122,
     "metadata": {},
     "output_type": "execute_result"
    }
   ],
   "source": [
    "(((residual)**2).sum()/residual.count())**0.5"
   ]
  },
  {
   "cell_type": "code",
   "execution_count": 22,
   "metadata": {
    "ExecuteTime": {
     "end_time": "2018-10-12T04:37:06.913970Z",
     "start_time": "2018-10-12T04:37:06.556742Z"
    }
   },
   "outputs": [
    {
     "data": {
      "image/png": "[encoded data removed]",
      "text/plain": [
       "<Figure size 432x288 with 1 Axes>"
      ]
     },
     "metadata": {},
     "output_type": "display_data"
    }
   ],
   "source": [
    "postfitRes.plot()\n",
    "plt.show()"
   ]
  },
  {
   "cell_type": "code",
   "execution_count": 20,
   "metadata": {
    "ExecuteTime": {
     "end_time": "2018-10-12T04:36:52.479992Z",
     "start_time": "2018-10-12T04:36:51.615134Z"
    }
   },
   "outputs": [],
   "source": [
    "import matplotlib.pyplot as plt"
   ]
  },
  {
   "cell_type": "code",
   "execution_count": 21,
   "metadata": {
    "ExecuteTime": {
     "end_time": "2018-10-12T04:36:56.472449Z",
     "start_time": "2018-10-12T04:36:56.469787Z"
    }
   },
   "outputs": [],
   "source": []
  },
  {
   "cell_type": "code",
   "execution_count": null,
   "metadata": {},
   "outputs": [],
   "source": []
  }
 ],
 "metadata": {
  "kernelspec": {
   "display_name": "Python 3",
   "language": "python",
   "name": "python3"
  },
  "language_info": {
   "codemirror_mode": {
    "name": "ipython",
    "version": 3
   },
   "file_extension": ".py",
   "mimetype": "text/x-python",
   "name": "python",
   "nbconvert_exporter": "python",
   "pygments_lexer": "ipython3",
   "version": "3.5.4"
  }
 },
 "nbformat": 4,
 "nbformat_minor": 2
}
