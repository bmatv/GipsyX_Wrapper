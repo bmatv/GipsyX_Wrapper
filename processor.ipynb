{
 "cells": [
  {
   "cell_type": "markdown",
   "metadata": {},
   "source": [
    "# GipsyX processor\n",
    "### 1. Conversion, analysis and merging  of rinex files into 30 h arc files\n",
    "### 2. TropNominals generation with VMF1 model\n",
    "### 3. IONEX merging\n",
    "### 4. Tree files generation (for each year and IONEX file)"
   ]
  },
  {
   "cell_type": "code",
   "execution_count": 1,
   "metadata": {
    "ExecuteTime": {
     "end_time": "2018-10-12T10:18:38.919932Z",
     "start_time": "2018-10-12T10:18:38.536803Z"
    },
    "code_folding": []
   },
   "outputs": [],
   "source": [
    "from gxlib import gx_aux,gx_convert, gx_merge, gx_trees, gx_compute, gx_tdps\n",
    "\n",
    "\n",
    "class rnx2dr:\n",
    "    def __init__(self,\n",
    "                 project_name,\n",
    "                 stations_list,\n",
    "                 years_list,\n",
    "                 tree_options,\n",
    "                 rnx_dir='/mnt/Data/bogdanm/GNSS_data/BIGF_data/daily30s',\n",
    "                 tmp_dir='/mnt/Data/bogdanm/tmp_GipsyX',\n",
    "                 VMF1_dir = '/mnt/Data/bogdanm/Products/VMF1_Products',\n",
    "                 tropNom_type = '30h_tropNominalOut_VMF1.tdp',\n",
    "                 IGS_logs_dir = '/mnt/Data/bogdanm/GNSS_data/BIGF_data/station_log_files',\n",
    "                 rate = 300,\n",
    "                 gnss_products_dir = '/mnt/Data/bogdanm/Products/JPL_GPS_Products_IGb08/Final',\n",
    "                 ionex_type='igs', #No ionex dir required as ionex merged products will be put into tmp directory by ionex class\n",
    "                 num_cores = 8):\n",
    "        \n",
    "        self.project_name = project_name\n",
    "        self.IGS_logs_dir = IGS_logs_dir\n",
    "        self.rnx_dir=rnx_dir\n",
    "        self.tmp_dir=tmp_dir\n",
    "        self.stations_list=stations_list\n",
    "        self.years_list=years_list\n",
    "        self.num_cores = num_cores\n",
    "        self.VMF1_dir = VMF1_dir\n",
    "        self.tropNom_type = tropNom_type\n",
    "        self.tree_options = tree_options\n",
    "        self.rnx_files = gx_convert.select_rnx(rnx_dir=self.rnx_dir,stations_list=self.stations_list,years_list=self.years_list)\n",
    "        self.rnx_files_in_out = gx_convert.rnx2dr_gen_paths(rnx_files=self.rnx_files,stations_list=self.stations_list,tmp_dir=self.tmp_dir)\n",
    "        self.staDb_path= gx_aux.gen_staDb(self.tmp_dir,self.project_name,self.stations_list,self.IGS_logs_dir)\n",
    "        self.gnss_products_dir = gnss_products_dir\n",
    "        self.ionex_type=ionex_type\n",
    "        self.rate=rate\n",
    "        \n",
    "    def analyse(self):\n",
    "        return gx_aux.analyse(rnx_files=self.rnx_files,stations_list=self.stations_list,years_list=self.years_list)\n",
    "    def rnx2dr(self):\n",
    "        gx_convert.rnx2dr(rnx_files=self.rnx_files, stations_list=self.stations_list, tmp_dir=self.tmp_dir, num_cores=self.num_cores)\n",
    "\n",
    "    def get_drInfo(self):\n",
    "        gx_aux.get_drinfo(num_cores=self.num_cores,rnx_files_in_out=self.rnx_files_in_out,stations_list=self.stations_list,tmp_dir=self.tmp_dir,years_list=self.years_list)\n",
    "    \n",
    "    def dr_merge(self):\n",
    "        merge_table = gx_merge.get_merge_table(tmp_dir=self.tmp_dir)\n",
    "        gx_merge.dr_merge(merge_table=merge_table,num_cores=self.num_cores,stations_list=self.stations_list)\n",
    "    def gen_VMF1_tropNom(self):\n",
    "        gx_tdps.gen_tropnom(tmp_dir=self.tmp_dir,VMF1_dir=self.VMF1_dir,num_cores=self.num_cores,rate=self.rate,staDb_path=self.staDb_path)\n",
    "    def gen_trees(self):\n",
    "        return gx_trees.gen_trees(ionex_type=self.ionex_type,tmp_dir=self.tmp_dir,tree_options=self.tree_options)\n",
    "    def gd2e(self):\n",
    "        merge_table = gx_merge.get_merge_table(tmp_dir=self.tmp_dir)\n",
    "        return gx_compute.gd2e(gnss_products_dir=self.gnss_products_dir,\n",
    "                merge_tables=merge_table,\n",
    "                num_cores=self.num_cores,\n",
    "                project_name=self.project_name,\n",
    "                staDb_path=self.staDb_path,\n",
    "                stations_list=self.stations_list,\n",
    "                tmp_dir=self.tmp_dir,\n",
    "                trees_df=self.gen_trees(),\n",
    "                tropNom_type=self.tropNom_type,\n",
    "                years_list=self.years_list)\n",
    "            \n",
    "\n"
   ]
  },
  {
   "cell_type": "code",
   "execution_count": 2,
   "metadata": {
    "ExecuteTime": {
     "end_time": "2018-10-12T10:18:39.033526Z",
     "start_time": "2018-10-12T10:18:39.030580Z"
    }
   },
   "outputs": [],
   "source": [
    "from trees_options import *"
   ]
  },
  {
   "cell_type": "code",
   "execution_count": 11,
   "metadata": {
    "ExecuteTime": {
     "end_time": "2018-10-12T16:27:18.826490Z",
     "start_time": "2018-10-12T16:27:18.357191Z"
    }
   },
   "outputs": [
    {
     "name": "stdout",
     "output_type": "stream",
     "text": [
      "Station CAMB is already processed\n"
     ]
    },
    {
     "data": {
      "text/plain": [
       "array([None], dtype=object)"
      ]
     },
     "execution_count": 11,
     "metadata": {},
     "output_type": "execute_result"
    }
   ],
   "source": [
    "'''CAMB test dataset 2003-2007 processing for noise analysis etc'''\n",
    "stations_list=['CAMB',]\n",
    "# years_list=[2003,]\n",
    "years_list=[2003,2004,2005,2006,2007]\n",
    "camb_aux = rnx2dr(stations_list=stations_list,years_list=years_list, project_name='camb_2003-2007_kinematic057_10Em5',num_cores=16,tree_options=all_on_kinematic_057_10Em5)\n",
    "camb_aux.gd2e()"
   ]
  },
  {
   "cell_type": "code",
   "execution_count": 12,
   "metadata": {
    "ExecuteTime": {
     "end_time": "2018-10-12T16:27:22.270788Z",
     "start_time": "2018-10-12T16:27:21.864797Z"
    }
   },
   "outputs": [
    {
     "name": "stdout",
     "output_type": "stream",
     "text": [
      "Station CAMB is already processed\n"
     ]
    },
    {
     "data": {
      "text/plain": [
       "array([None], dtype=object)"
      ]
     },
     "execution_count": 12,
     "metadata": {},
     "output_type": "execute_result"
    }
   ],
   "source": [
    "camb_aux = rnx2dr(stations_list=stations_list,years_list=years_list, project_name='camb_2003-2007_kinematic057_10Em4',num_cores=16,tree_options=all_on_kinematic_057_10Em4)\n",
    "camb_aux.gd2e()"
   ]
  },
  {
   "cell_type": "code",
   "execution_count": 13,
   "metadata": {
    "ExecuteTime": {
     "end_time": "2018-10-12T16:27:24.793590Z",
     "start_time": "2018-10-12T16:27:24.268574Z"
    }
   },
   "outputs": [
    {
     "name": "stdout",
     "output_type": "stream",
     "text": [
      "Station CAMB is already processed\n"
     ]
    },
    {
     "data": {
      "text/plain": [
       "array([None], dtype=object)"
      ]
     },
     "execution_count": 13,
     "metadata": {},
     "output_type": "execute_result"
    }
   ],
   "source": [
    "camb_aux = rnx2dr(stations_list=stations_list,years_list=years_list, project_name='camb_2003-2007_kinematic057_10Em3',num_cores=16,tree_options=all_on_kinematic_057_10Em3)\n",
    "camb_aux.gd2e()"
   ]
  },
  {
   "cell_type": "code",
   "execution_count": 14,
   "metadata": {
    "ExecuteTime": {
     "end_time": "2018-10-12T16:27:28.691301Z",
     "start_time": "2018-10-12T16:27:28.162441Z"
    }
   },
   "outputs": [
    {
     "name": "stdout",
     "output_type": "stream",
     "text": [
      "Station CAMB is already processed\n"
     ]
    },
    {
     "data": {
      "text/plain": [
       "array([None], dtype=object)"
      ]
     },
     "execution_count": 14,
     "metadata": {},
     "output_type": "execute_result"
    }
   ],
   "source": [
    "camb_aux = rnx2dr(stations_list=stations_list,years_list=years_list, project_name='camb_2003-2007_kinematic057_10Em2',num_cores=16,tree_options=all_on_kinematic_057_10Em2)\n",
    "camb_aux.gd2e()"
   ]
  },
  {
   "cell_type": "code",
   "execution_count": 15,
   "metadata": {
    "ExecuteTime": {
     "end_time": "2018-10-12T16:27:32.137379Z",
     "start_time": "2018-10-12T16:27:31.608366Z"
    }
   },
   "outputs": [
    {
     "name": "stdout",
     "output_type": "stream",
     "text": [
      "Station CAMB is already processed\n"
     ]
    },
    {
     "data": {
      "text/plain": [
       "array([None], dtype=object)"
      ]
     },
     "execution_count": 15,
     "metadata": {},
     "output_type": "execute_result"
    }
   ],
   "source": [
    "camb_aux = rnx2dr(stations_list=stations_list,years_list=years_list, project_name='camb_2003-2007_kinematic057_10Em1',num_cores=16,tree_options=all_on_kinematic_057_10Em1)\n",
    "camb_aux.gd2e()"
   ]
  },
  {
   "cell_type": "code",
   "execution_count": 16,
   "metadata": {
    "ExecuteTime": {
     "end_time": "2018-10-12T16:27:34.886089Z",
     "start_time": "2018-10-12T16:27:34.448070Z"
    }
   },
   "outputs": [
    {
     "name": "stdout",
     "output_type": "stream",
     "text": [
      "Station CAMB is already processed\n"
     ]
    },
    {
     "data": {
      "text/plain": [
       "array([None], dtype=object)"
      ]
     },
     "execution_count": 16,
     "metadata": {},
     "output_type": "execute_result"
    }
   ],
   "source": [
    "camb_aux = rnx2dr(stations_list=stations_list,years_list=years_list, project_name='camb_2003-2007_kinematic057_10E0',num_cores=16,tree_options=all_on_kinematic_057_10E0)\n",
    "camb_aux.gd2e()"
   ]
  },
  {
   "cell_type": "code",
   "execution_count": 17,
   "metadata": {
    "ExecuteTime": {
     "end_time": "2018-10-12T16:27:36.071538Z",
     "start_time": "2018-10-12T16:27:35.630567Z"
    }
   },
   "outputs": [
    {
     "name": "stdout",
     "output_type": "stream",
     "text": [
      "Station CAMB is already processed\n"
     ]
    },
    {
     "data": {
      "text/plain": [
       "array([None], dtype=object)"
      ]
     },
     "execution_count": 17,
     "metadata": {},
     "output_type": "execute_result"
    }
   ],
   "source": [
    "camb_aux = rnx2dr(stations_list=stations_list,years_list=years_list, project_name='camb_2003-2007_kinematic057_10E1',num_cores=16,tree_options=all_on_kinematic_057_10E1)\n",
    "camb_aux.gd2e()"
   ]
  },
  {
   "cell_type": "code",
   "execution_count": 18,
   "metadata": {
    "ExecuteTime": {
     "end_time": "2018-10-12T16:27:37.675558Z",
     "start_time": "2018-10-12T16:27:37.125978Z"
    }
   },
   "outputs": [
    {
     "name": "stdout",
     "output_type": "stream",
     "text": [
      "Station CAMB is already processed\n"
     ]
    },
    {
     "data": {
      "text/plain": [
       "array([None], dtype=object)"
      ]
     },
     "execution_count": 18,
     "metadata": {},
     "output_type": "execute_result"
    }
   ],
   "source": [
    "camb_aux = rnx2dr(stations_list=stations_list,years_list=years_list, project_name='camb_2003-2007_kinematic057_10E2',num_cores=16,tree_options=all_on_kinematic_057_10E2)\n",
    "camb_aux.gd2e()"
   ]
  },
  {
   "cell_type": "code",
   "execution_count": 16,
   "metadata": {
    "ExecuteTime": {
     "end_time": "2018-10-12T10:03:02.880274Z",
     "start_time": "2018-10-12T10:03:02.869136Z"
    }
   },
   "outputs": [],
   "source": [
    "def RMS_res(residuals):\n",
    "    '''Expects np array from finalResiduals.out with no header. Returns RMS of IonoFreeL_1P_2P [included] (Carrier phase residulas rms)'''\n",
    "    residuals_header = ['Time','T/R Antenna No','DataType','PF Residual (m)','Elevation from receiver (deg)',\\\n",
    "                    ' Azimuth from receiver (deg)','Elevation from transmitter (deg)',' Azimuth from transmitter (deg)','Status']\n",
    "    residuals_df = _pd.DataFrame(data = residuals,columns=residuals_header).set_index(['DataType','Time'])\n",
    "    L_residuals = residuals_df[residuals_df['Status'].isna()].loc['IonoFreeL_1P_2P']['PF Residual (m)']\n",
    "    RMS = (((L_residuals**2).sum())/L_residuals.count())**0.5\n",
    "    return L_residuals"
   ]
  },
  {
   "cell_type": "code",
   "execution_count": 21,
   "metadata": {
    "ExecuteTime": {
     "end_time": "2018-10-12T10:03:33.535395Z",
     "start_time": "2018-10-12T10:03:33.390672Z"
    }
   },
   "outputs": [
    {
     "data": {
      "image/png": "[encoded data removed]",
      "text/plain": [
       "<Figure size 432x288 with 1 Axes>"
      ]
     },
     "metadata": {},
     "output_type": "display_data"
    }
   ],
   "source": [
    "RMS_res(npz_file['finalResiduals']).plot()\n",
    "plt.show()"
   ]
  },
  {
   "cell_type": "code",
   "execution_count": 1,
   "metadata": {
    "ExecuteTime": {
     "end_time": "2018-10-10T06:23:06.738578Z",
     "start_time": "2018-10-10T06:23:06.725754Z"
    }
   },
   "outputs": [
    {
     "data": {
      "text/plain": [
       "'Add IONEX merger here'"
      ]
     },
     "execution_count": 1,
     "metadata": {},
     "output_type": "execute_result"
    }
   ],
   "source": [
    "'''Processing Graph'''\n",
    "# camb_aux.rnx2dr()\n",
    "# camb_aux.get_drInfo()\n",
    "# camb_aux.gen_VMF1_tropNom()\n",
    "# camb_aux.dr_merge()\n",
    "'''Add IONEX merger here'''\n",
    "# camb_aux.gd2e()"
   ]
  },
  {
   "cell_type": "code",
   "execution_count": 55,
   "metadata": {
    "ExecuteTime": {
     "end_time": "2018-10-12T04:46:00.523612Z",
     "start_time": "2018-10-12T04:46:00.520264Z"
    }
   },
   "outputs": [],
   "source": [
    "file = '/home/bogdanm/Desktop/test/Summary'"
   ]
  },
  {
   "cell_type": "code",
   "execution_count": 84,
   "metadata": {
    "ExecuteTime": {
     "end_time": "2018-10-12T05:17:39.339522Z",
     "start_time": "2018-10-12T05:17:39.317176Z"
    },
    "scrolled": true
   },
   "outputs": [
    {
     "data": {
      "text/html": [
       "<div>\n",
       "<style scoped>\n",
       "    .dataframe tbody tr th:only-of-type {\n",
       "        vertical-align: middle;\n",
       "    }\n",
       "\n",
       "    .dataframe tbody tr th {\n",
       "        vertical-align: top;\n",
       "    }\n",
       "\n",
       "    .dataframe thead th {\n",
       "        text-align: right;\n",
       "    }\n",
       "</style>\n",
       "<table border=\"1\" class=\"dataframe\">\n",
       "  <thead>\n",
       "    <tr style=\"text-align: right;\">\n",
       "      <th></th>\n",
       "      <th></th>\n",
       "      <th>0</th>\n",
       "      <th>3</th>\n",
       "      <th>4</th>\n",
       "      <th>5</th>\n",
       "      <th>6</th>\n",
       "      <th>7</th>\n",
       "      <th>8</th>\n",
       "      <th>9</th>\n",
       "    </tr>\n",
       "    <tr>\n",
       "      <th>1</th>\n",
       "      <th>2</th>\n",
       "      <th></th>\n",
       "      <th></th>\n",
       "      <th></th>\n",
       "      <th></th>\n",
       "      <th></th>\n",
       "      <th></th>\n",
       "      <th></th>\n",
       "      <th></th>\n",
       "    </tr>\n",
       "  </thead>\n",
       "  <tbody>\n",
       "    <tr>\n",
       "      <th rowspan=\"2\" valign=\"top\">IonoFreeC_1P_2P</th>\n",
       "      <th>included</th>\n",
       "      <td>---</td>\n",
       "      <td>-0.503520</td>\n",
       "      <td>-2.479113</td>\n",
       "      <td>-2.466010</td>\n",
       "      <td>2397</td>\n",
       "      <td>(</td>\n",
       "      <td>99.5%</td>\n",
       "      <td>)</td>\n",
       "    </tr>\n",
       "    <tr>\n",
       "      <th>deleted</th>\n",
       "      <td>---</td>\n",
       "      <td>2.929923</td>\n",
       "      <td>3.035164</td>\n",
       "      <td>-3.589551</td>\n",
       "      <td>13</td>\n",
       "      <td>(</td>\n",
       "      <td>0.5%</td>\n",
       "      <td>)</td>\n",
       "    </tr>\n",
       "    <tr>\n",
       "      <th rowspan=\"2\" valign=\"top\">IonoFreeL_1P_2P</th>\n",
       "      <th>included</th>\n",
       "      <td>---</td>\n",
       "      <td>0.004775</td>\n",
       "      <td>0.026111</td>\n",
       "      <td>-0.021730</td>\n",
       "      <td>2378</td>\n",
       "      <td>(</td>\n",
       "      <td>98.7%</td>\n",
       "      <td>)</td>\n",
       "    </tr>\n",
       "    <tr>\n",
       "      <th>deleted</th>\n",
       "      <td>---</td>\n",
       "      <td>0.174309</td>\n",
       "      <td>0.309614</td>\n",
       "      <td>-0.669919</td>\n",
       "      <td>32</td>\n",
       "      <td>(</td>\n",
       "      <td>1.3%</td>\n",
       "      <td>)</td>\n",
       "    </tr>\n",
       "  </tbody>\n",
       "</table>\n",
       "</div>"
      ],
      "text/plain": [
       "                            0         3         4         5     6  7      8  9\n",
       "1               2                                                             \n",
       "IonoFreeC_1P_2P included  --- -0.503520 -2.479113 -2.466010  2397  (  99.5%  )\n",
       "                deleted   ---  2.929923  3.035164 -3.589551    13  (   0.5%  )\n",
       "IonoFreeL_1P_2P included  ---  0.004775  0.026111 -0.021730  2378  (  98.7%  )\n",
       "                deleted   ---  0.174309  0.309614 -0.669919    32  (   1.3%  )"
      ]
     },
     "execution_count": 84,
     "metadata": {},
     "output_type": "execute_result"
    }
   ],
   "source": [
    "pd.read_csv(file,skiprows=[0,1,2,3,4,7,10,11,12,13],header=None,delim_whitespace=True).set_index([1,2])"
   ]
  },
  {
   "cell_type": "code",
   "execution_count": 87,
   "metadata": {
    "ExecuteTime": {
     "end_time": "2018-10-12T05:17:51.531265Z",
     "start_time": "2018-10-12T05:17:51.520541Z"
    }
   },
   "outputs": [],
   "source": [
    "test_rms = pd.read_fwf(file, colspecs=[[6,21],[24,34],[37,50],[53,66],[69,82],[88,103]], skiprows=[0,1,2,3,7,10,11,12,13,14]).set_index(['DataType','Status'])\n",
    "# test_rms"
   ]
  },
  {
   "cell_type": "code",
   "execution_count": 99,
   "metadata": {
    "ExecuteTime": {
     "end_time": "2018-10-12T05:23:01.842972Z",
     "start_time": "2018-10-12T05:23:01.830877Z"
    }
   },
   "outputs": [
    {
     "data": {
      "text/html": [
       "<div>\n",
       "<style scoped>\n",
       "    .dataframe tbody tr th:only-of-type {\n",
       "        vertical-align: middle;\n",
       "    }\n",
       "\n",
       "    .dataframe tbody tr th {\n",
       "        vertical-align: top;\n",
       "    }\n",
       "\n",
       "    .dataframe thead th {\n",
       "        text-align: right;\n",
       "    }\n",
       "</style>\n",
       "<table border=\"1\" class=\"dataframe\">\n",
       "  <thead>\n",
       "    <tr style=\"text-align: right;\">\n",
       "      <th></th>\n",
       "      <th></th>\n",
       "      <th>RMS (m)</th>\n",
       "      <th>Max (m)</th>\n",
       "      <th>Min (m)</th>\n",
       "      <th>number (%)</th>\n",
       "    </tr>\n",
       "    <tr>\n",
       "      <th>DataType</th>\n",
       "      <th>Status</th>\n",
       "      <th></th>\n",
       "      <th></th>\n",
       "      <th></th>\n",
       "      <th></th>\n",
       "    </tr>\n",
       "  </thead>\n",
       "  <tbody>\n",
       "    <tr>\n",
       "      <th rowspan=\"2\" valign=\"top\">IonoFreeC_1P_2P</th>\n",
       "      <th>included</th>\n",
       "      <td>-0.503520</td>\n",
       "      <td>-2.479113</td>\n",
       "      <td>-2.466010</td>\n",
       "      <td>2397 (  99.5% )</td>\n",
       "    </tr>\n",
       "    <tr>\n",
       "      <th>deleted</th>\n",
       "      <td>2.929923</td>\n",
       "      <td>3.035164</td>\n",
       "      <td>-3.589551</td>\n",
       "      <td>13 (   0.5% )</td>\n",
       "    </tr>\n",
       "    <tr>\n",
       "      <th rowspan=\"2\" valign=\"top\">IonoFreeL_1P_2P</th>\n",
       "      <th>included</th>\n",
       "      <td>0.004775</td>\n",
       "      <td>0.026111</td>\n",
       "      <td>-0.021730</td>\n",
       "      <td>2378 (  98.7% )</td>\n",
       "    </tr>\n",
       "    <tr>\n",
       "      <th>deleted</th>\n",
       "      <td>0.174309</td>\n",
       "      <td>0.309614</td>\n",
       "      <td>-0.669919</td>\n",
       "      <td>32 (   1.3% )</td>\n",
       "    </tr>\n",
       "  </tbody>\n",
       "</table>\n",
       "</div>"
      ],
      "text/plain": [
       "                           RMS (m)   Max (m)   Min (m)       number (%)\n",
       "DataType        Status                                                 \n",
       "IonoFreeC_1P_2P included -0.503520 -2.479113 -2.466010  2397 (  99.5% )\n",
       "                deleted   2.929923  3.035164 -3.589551    13 (   0.5% )\n",
       "IonoFreeL_1P_2P included  0.004775  0.026111 -0.021730  2378 (  98.7% )\n",
       "                deleted   0.174309  0.309614 -0.669919    32 (   1.3% )"
      ]
     },
     "execution_count": 99,
     "metadata": {},
     "output_type": "execute_result"
    }
   ],
   "source": [
    "test_rms"
   ]
  }
 ],
 "metadata": {
  "kernelspec": {
   "display_name": "Python 3",
   "language": "python",
   "name": "python3"
  },
  "language_info": {
   "codemirror_mode": {
    "name": "ipython",
    "version": 3
   },
   "file_extension": ".py",
   "mimetype": "text/x-python",
   "name": "python",
   "nbconvert_exporter": "python",
   "pygments_lexer": "ipython3",
   "version": "3.5.4"
  }
 },
 "nbformat": 4,
 "nbformat_minor": 2
}
