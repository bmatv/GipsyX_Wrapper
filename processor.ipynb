{
 "cells": [
  {
   "cell_type": "markdown",
   "metadata": {},
   "source": [
    "# GipsyX processor\n",
    "### 1. Conversion, analysis and merging  of rinex files into 30 h arc files\n",
    "### 2. TropNominals generation with VMF1 model\n",
    "### 3. IONEX merging\n",
    "### 4. Tree files generation (for each year and IONEX file)"
   ]
  },
  {
   "cell_type": "code",
   "execution_count": 1,
   "metadata": {
    "ExecuteTime": {
     "end_time": "2018-10-09T11:17:40.771140Z",
     "start_time": "2018-10-09T11:17:40.545986Z"
    }
   },
   "outputs": [],
   "source": [
    "import glob\n",
    "import pandas as pd\n",
    "import numpy as np\n",
    "from shutil import rmtree\n",
    "from multiprocessing import Pool\n",
    "import os, sys, re, subprocess, calendar"
   ]
  },
  {
   "cell_type": "code",
   "execution_count": null,
   "metadata": {
    "ExecuteTime": {
     "end_time": "2018-10-09T09:22:55.930258Z",
     "start_time": "2018-10-09T09:22:55.803210Z"
    },
    "code_folding": [
     1,
     54,
     110
    ]
   },
   "outputs": [],
   "source": []
  },
  {
   "cell_type": "code",
   "execution_count": null,
   "metadata": {},
   "outputs": [],
   "source": []
  },
  {
   "cell_type": "code",
   "execution_count": 2,
   "metadata": {
    "ExecuteTime": {
     "end_time": "2018-10-09T11:17:41.642216Z",
     "start_time": "2018-10-09T11:17:41.632767Z"
    }
   },
   "outputs": [],
   "source": [
    "from gxlib import gx_aux,gx_convert, gx_merge, gx_trees\n"
   ]
  },
  {
   "cell_type": "code",
   "execution_count": 15,
   "metadata": {
    "ExecuteTime": {
     "end_time": "2018-10-09T11:20:37.139876Z",
     "start_time": "2018-10-09T11:20:36.428174Z"
    },
    "code_folding": [
     119,
     204,
     222,
     239,
     254,
     297,
     327,
     366
    ]
   },
   "outputs": [],
   "source": [
    "import glob\n",
    "import pandas as pd\n",
    "import numpy as np\n",
    "from shutil import rmtree\n",
    "from multiprocessing import Pool\n",
    "import os, sys, re, subprocess, calendar\n",
    "\n",
    "PYGCOREPATH=\"{}/lib/python{}.{}\".format(os.environ['GCOREBUILD'],\n",
    "                            sys.version_info[0], sys.version_info[1])\n",
    "if PYGCOREPATH not in sys.path:\n",
    "    sys.path.insert(0,PYGCOREPATH)\n",
    "\n",
    "import gipsyx.tropNom as tropNom\n",
    "import gcore.StationDataBase as StationDataBase\n",
    "import gcore.treeUtils as treeUtils\n",
    "\n",
    "\n",
    "class rnx2dr:\n",
    "    def __init__(self,\n",
    "                 project_name,\n",
    "                 stations_list,\n",
    "                 years_list,\n",
    "                 tree_options,\n",
    "                 rnx_dir='/mnt/Data/bogdanm/GNSS_data/BIGF_data/daily30s',\n",
    "                 tmp_dir='/mnt/Data/bogdanm/tmp_GipsyX',\n",
    "                 VMF1_dir = '/mnt/Data/bogdanm/Products/VMF1_Products',\n",
    "                 tropNom_type = '30h_tropNominalOut_VMF1.tdp',\n",
    "                 IGS_logs_dir = '/mnt/Data/bogdanm/GNSS_data/BIGF_data/station_log_files',\n",
    "                 rate = 300,\n",
    "                 gnss_products_dir = '/mnt/Data/bogdanm/Products/JPL_GPS_Products/Final',\n",
    "                 ionex_type='igs', #No ionex dir required as ionex merged products will be put into tmp directory by ionex class\n",
    "                 num_cores = 8):\n",
    "        \n",
    "        self.project_name = project_name\n",
    "        self.IGS_logs_dir = IGS_logs_dir\n",
    "        self.rnx_dir=rnx_dir\n",
    "        self.tmp_dir=tmp_dir\n",
    "        self.stations_list=stations_list\n",
    "        self.years_list=years_list\n",
    "        self.num_cores = num_cores\n",
    "        self.VMF1_dir = VMF1_dir\n",
    "        self.tropNom_type = tropNom_type\n",
    "        self.tree_options = tree_options\n",
    "        self.rnx_files = gx_convert.select_rnx(rnx_dir=self.rnx_dir,stations_list=self.stations_list,years_list=self.years_list)\n",
    "        self.rnx_files_in_out = gx_convert.rnx2dr_gen_paths(rnx_files=self.rnx_files,stations_list=self.stations_list,tmp_dir=self.tmp_dir)\n",
    "        self.staDb_dir= gx_aux.gen_staDb(self.tmp_dir,self.project_name,self.stations_list,self.IGS_logs_dir)\n",
    "        self.gnss_products_dir = gnss_products_dir\n",
    "        self.ionex_type=ionex_type\n",
    "        self.rate=rate\n",
    "        \n",
    "    def analyse(self):\n",
    "        return gx_aux.analyse(rnx_files=self.rnx_files,stations_list=self.stations_list,years_list=self.years_list)\n",
    "    def rnx2dr(self):\n",
    "        gx_convert.rnx2dr(rnx_files=self.rnx_files, stations_list=self.stations_list, tmp_dir=self.tmp_dir, num_cores=self.num_cores)\n",
    "\n",
    "    def get_drInfo(self):\n",
    "        gx_aux.get_drinfo(num_cores=self.num_cores,rnx_files_in_out=self.rnx_files_in_out,stations_list=self.stations_list,tmp_dir=self.tmp_dir,years_list=self.years_list)\n",
    "    \n",
    "    def dr_merge(self):\n",
    "        merge_table = gx_merge.get_merge_table(tmp_dir=self.tmp_dir)\n",
    "        gx_merge.dr_merge(merge_table=merge_table,num_cores=self.num_cores,stations_list=self.stations_list)\n",
    "    def gen_VMF1_tropNom(self):\n",
    "        gx_tdps.gen_tropnom(tmp_dir=self.tmp_dir,VMF1_dir=self.VMF1_dir,num_cores=self.num_cores,rate=self.rate,staDb_dir=self.staDb_dir)\n",
    "    def gen_trees(self):\n",
    "        return gx_trees.gen_trees(ionex_type=self.ionex_type,tmp_dir=self.tmp_dir,tree_options=self.tree_options)\n",
    "    \n",
    "            \n",
    "\n"
   ]
  },
  {
   "cell_type": "code",
   "execution_count": 16,
   "metadata": {
    "ExecuteTime": {
     "end_time": "2018-10-09T11:20:40.500732Z",
     "start_time": "2018-10-09T11:20:40.394951Z"
    }
   },
   "outputs": [
    {
     "name": "stdout",
     "output_type": "stream",
     "text": [
      "No RNX files found for CAMB 2011. Please check rnx_in folder\n",
      "No RNX files found for CAMB 2012. Please check rnx_in folder\n"
     ]
    }
   ],
   "source": [
    "from trees_options import all_on_kinematic\n",
    "'''CAMB test dataset 2002-2006 processing for noise analysis etc'''\n",
    "stations_list=['CAMB',]\n",
    "years_list=[2003,2004,2005,2006,2007,2008,2009,2010,2011,2012]\n",
    "# years_list=[2002,2003]\n",
    "camb_aux = rnx2dr(stations_list=stations_list,years_list=years_list, project_name='camb_2002-2006_kinematic',num_cores=20,tree_options=all_on_kinematic)"
   ]
  },
  {
   "cell_type": "code",
   "execution_count": 17,
   "metadata": {
    "ExecuteTime": {
     "end_time": "2018-10-09T11:20:50.557525Z",
     "start_time": "2018-10-09T11:20:50.529125Z"
    }
   },
   "outputs": [
    {
     "data": {
      "text/html": [
       "<div>\n",
       "<style scoped>\n",
       "    .dataframe tbody tr th:only-of-type {\n",
       "        vertical-align: middle;\n",
       "    }\n",
       "\n",
       "    .dataframe tbody tr th {\n",
       "        vertical-align: top;\n",
       "    }\n",
       "\n",
       "    .dataframe thead th {\n",
       "        text-align: right;\n",
       "    }\n",
       "</style>\n",
       "<table border=\"1\" class=\"dataframe\">\n",
       "  <thead>\n",
       "    <tr style=\"text-align: right;\">\n",
       "      <th></th>\n",
       "      <th>tree_path</th>\n",
       "    </tr>\n",
       "    <tr>\n",
       "      <th>year</th>\n",
       "      <th></th>\n",
       "    </tr>\n",
       "  </thead>\n",
       "  <tbody>\n",
       "    <tr>\n",
       "      <th>2002</th>\n",
       "      <td>/mnt/Data/bogdanm/tmp_GipsyX/Trees/igs2002/</td>\n",
       "    </tr>\n",
       "    <tr>\n",
       "      <th>2003</th>\n",
       "      <td>/mnt/Data/bogdanm/tmp_GipsyX/Trees/igs2003/</td>\n",
       "    </tr>\n",
       "    <tr>\n",
       "      <th>2004</th>\n",
       "      <td>/mnt/Data/bogdanm/tmp_GipsyX/Trees/igs2004/</td>\n",
       "    </tr>\n",
       "    <tr>\n",
       "      <th>2005</th>\n",
       "      <td>/mnt/Data/bogdanm/tmp_GipsyX/Trees/igs2005/</td>\n",
       "    </tr>\n",
       "    <tr>\n",
       "      <th>2006</th>\n",
       "      <td>/mnt/Data/bogdanm/tmp_GipsyX/Trees/igs2006/</td>\n",
       "    </tr>\n",
       "    <tr>\n",
       "      <th>2007</th>\n",
       "      <td>/mnt/Data/bogdanm/tmp_GipsyX/Trees/igs2007/</td>\n",
       "    </tr>\n",
       "    <tr>\n",
       "      <th>2008</th>\n",
       "      <td>/mnt/Data/bogdanm/tmp_GipsyX/Trees/igs2008/</td>\n",
       "    </tr>\n",
       "    <tr>\n",
       "      <th>2009</th>\n",
       "      <td>/mnt/Data/bogdanm/tmp_GipsyX/Trees/igs2009/</td>\n",
       "    </tr>\n",
       "    <tr>\n",
       "      <th>2010</th>\n",
       "      <td>/mnt/Data/bogdanm/tmp_GipsyX/Trees/igs2010/</td>\n",
       "    </tr>\n",
       "    <tr>\n",
       "      <th>2011</th>\n",
       "      <td>/mnt/Data/bogdanm/tmp_GipsyX/Trees/igs2011/</td>\n",
       "    </tr>\n",
       "    <tr>\n",
       "      <th>2012</th>\n",
       "      <td>/mnt/Data/bogdanm/tmp_GipsyX/Trees/igs2012/</td>\n",
       "    </tr>\n",
       "  </tbody>\n",
       "</table>\n",
       "</div>"
      ],
      "text/plain": [
       "                                        tree_path\n",
       "year                                             \n",
       "2002  /mnt/Data/bogdanm/tmp_GipsyX/Trees/igs2002/\n",
       "2003  /mnt/Data/bogdanm/tmp_GipsyX/Trees/igs2003/\n",
       "2004  /mnt/Data/bogdanm/tmp_GipsyX/Trees/igs2004/\n",
       "2005  /mnt/Data/bogdanm/tmp_GipsyX/Trees/igs2005/\n",
       "2006  /mnt/Data/bogdanm/tmp_GipsyX/Trees/igs2006/\n",
       "2007  /mnt/Data/bogdanm/tmp_GipsyX/Trees/igs2007/\n",
       "2008  /mnt/Data/bogdanm/tmp_GipsyX/Trees/igs2008/\n",
       "2009  /mnt/Data/bogdanm/tmp_GipsyX/Trees/igs2009/\n",
       "2010  /mnt/Data/bogdanm/tmp_GipsyX/Trees/igs2010/\n",
       "2011  /mnt/Data/bogdanm/tmp_GipsyX/Trees/igs2011/\n",
       "2012  /mnt/Data/bogdanm/tmp_GipsyX/Trees/igs2012/"
      ]
     },
     "execution_count": 17,
     "metadata": {},
     "output_type": "execute_result"
    }
   ],
   "source": [
    "camb_aux.gen_trees()"
   ]
  },
  {
   "cell_type": "code",
   "execution_count": 12,
   "metadata": {
    "ExecuteTime": {
     "end_time": "2018-10-09T11:19:46.451731Z",
     "start_time": "2018-10-09T11:19:46.449107Z"
    }
   },
   "outputs": [],
   "source": [
    "a"
   ]
  },
  {
   "cell_type": "code",
   "execution_count": 13,
   "metadata": {
    "ExecuteTime": {
     "end_time": "2018-10-09T11:20:03.191588Z",
     "start_time": "2018-10-09T11:20:03.113470Z"
    }
   },
   "outputs": [],
   "source": [
    "import pandas as _pd\n",
    "import glob as _glob\n",
    "import os as _os, sys as _sys\n",
    "\n",
    "_PYGCOREPATH=\"{}/lib/python{}.{}\".format(_os.environ['GCOREBUILD'],\n",
    "                            _sys.version_info[0], _sys.version_info[1])\n",
    "if _PYGCOREPATH not in _sys.path:\n",
    "    _sys.path.insert(0,_PYGCOREPATH)\n",
    "\n",
    "import gcore.treeUtils as _treeUtils\n",
    "\n",
    "def gen_trees(tmp_dir, ionex_type, tree_options):\n",
    "    '''Creates trees based on tree_options array and yearly IONEX merged files. Returns DataFrame with trees' details'''\n",
    "    # reading ionex filenames\n",
    "    out_df = _pd.DataFrame()\n",
    "#         default_tree = '/home/bogdanm/Desktop/GipsyX_trees/Trees_kinematic_VMF1_IONEX/ppp_0.tree'\n",
    "    default_tree = '/apps/gipsyx/beta/GipsyX-Beta/share/gd2e/DefaultTreeSeries/PPP/ppp_0.tree'\n",
    "    input_tree = _treeUtils.tree(default_tree)\n",
    "    ionex_files = _pd.Series(sorted(_glob.glob(tmp_dir+'/IONEX_merged/' + ionex_type + '*')))\n",
    "    ionex_basenames = ionex_files.str.split('/', expand=True).iloc[:, -1]\n",
    "\n",
    "    out_df['year'] = ionex_basenames.str.slice(3, 7)\n",
    "    out_df['tree_path'] = tmp_dir + '/Trees/' + ionex_basenames + '/'  # where to save tree file\n",
    "\n",
    "    for i in range(len(ionex_files)):\n",
    "\n",
    "        if not _os.path.exists(out_df['tree_path'].iloc[i]):\n",
    "            _os.makedirs(out_df['tree_path'].iloc[i])\n",
    "\n",
    "        #Removing options from default tree. These options are stored as tree_options[1]\n",
    "        for option in tree_options[1]:\n",
    "            input_tree.entries.pop(option, None)\n",
    "\n",
    "        #Add IONEX_merged file dynamically based on IONEX basename (year and type)\n",
    "        input_tree.entries['Global:Ion2nd:StecModel:IonexFile'] = _treeUtils.treevalue(ionex_files[i])\n",
    "\n",
    "\n",
    "        #Adding options to default tree. These options are stored as tree_options[0]\n",
    "        for option in tree_options[0]:\n",
    "            input_tree.entries[option[0]] = _treeUtils.treevalue(option[1])  # write standard parameters\n",
    "\n",
    "        input_tree.save(out_df['tree_path'][i] + 'ppp_0.tree')\n",
    "    # return year type path_trees\n",
    "\n",
    "    return out_df.set_index(['year']) "
   ]
  },
  {
   "cell_type": "code",
   "execution_count": 14,
   "metadata": {
    "ExecuteTime": {
     "end_time": "2018-10-09T11:20:03.790157Z",
     "start_time": "2018-10-09T11:20:03.762962Z"
    }
   },
   "outputs": [
    {
     "data": {
      "text/html": [
       "<div>\n",
       "<style scoped>\n",
       "    .dataframe tbody tr th:only-of-type {\n",
       "        vertical-align: middle;\n",
       "    }\n",
       "\n",
       "    .dataframe tbody tr th {\n",
       "        vertical-align: top;\n",
       "    }\n",
       "\n",
       "    .dataframe thead th {\n",
       "        text-align: right;\n",
       "    }\n",
       "</style>\n",
       "<table border=\"1\" class=\"dataframe\">\n",
       "  <thead>\n",
       "    <tr style=\"text-align: right;\">\n",
       "      <th></th>\n",
       "      <th>tree_path</th>\n",
       "    </tr>\n",
       "    <tr>\n",
       "      <th>year</th>\n",
       "      <th></th>\n",
       "    </tr>\n",
       "  </thead>\n",
       "  <tbody>\n",
       "    <tr>\n",
       "      <th>2002</th>\n",
       "      <td>/mnt/Data/bogdanm/tmp_GipsyX/Trees/igs2002/</td>\n",
       "    </tr>\n",
       "    <tr>\n",
       "      <th>2003</th>\n",
       "      <td>/mnt/Data/bogdanm/tmp_GipsyX/Trees/igs2003/</td>\n",
       "    </tr>\n",
       "    <tr>\n",
       "      <th>2004</th>\n",
       "      <td>/mnt/Data/bogdanm/tmp_GipsyX/Trees/igs2004/</td>\n",
       "    </tr>\n",
       "    <tr>\n",
       "      <th>2005</th>\n",
       "      <td>/mnt/Data/bogdanm/tmp_GipsyX/Trees/igs2005/</td>\n",
       "    </tr>\n",
       "    <tr>\n",
       "      <th>2006</th>\n",
       "      <td>/mnt/Data/bogdanm/tmp_GipsyX/Trees/igs2006/</td>\n",
       "    </tr>\n",
       "    <tr>\n",
       "      <th>2007</th>\n",
       "      <td>/mnt/Data/bogdanm/tmp_GipsyX/Trees/igs2007/</td>\n",
       "    </tr>\n",
       "    <tr>\n",
       "      <th>2008</th>\n",
       "      <td>/mnt/Data/bogdanm/tmp_GipsyX/Trees/igs2008/</td>\n",
       "    </tr>\n",
       "    <tr>\n",
       "      <th>2009</th>\n",
       "      <td>/mnt/Data/bogdanm/tmp_GipsyX/Trees/igs2009/</td>\n",
       "    </tr>\n",
       "    <tr>\n",
       "      <th>2010</th>\n",
       "      <td>/mnt/Data/bogdanm/tmp_GipsyX/Trees/igs2010/</td>\n",
       "    </tr>\n",
       "    <tr>\n",
       "      <th>2011</th>\n",
       "      <td>/mnt/Data/bogdanm/tmp_GipsyX/Trees/igs2011/</td>\n",
       "    </tr>\n",
       "    <tr>\n",
       "      <th>2012</th>\n",
       "      <td>/mnt/Data/bogdanm/tmp_GipsyX/Trees/igs2012/</td>\n",
       "    </tr>\n",
       "  </tbody>\n",
       "</table>\n",
       "</div>"
      ],
      "text/plain": [
       "                                        tree_path\n",
       "year                                             \n",
       "2002  /mnt/Data/bogdanm/tmp_GipsyX/Trees/igs2002/\n",
       "2003  /mnt/Data/bogdanm/tmp_GipsyX/Trees/igs2003/\n",
       "2004  /mnt/Data/bogdanm/tmp_GipsyX/Trees/igs2004/\n",
       "2005  /mnt/Data/bogdanm/tmp_GipsyX/Trees/igs2005/\n",
       "2006  /mnt/Data/bogdanm/tmp_GipsyX/Trees/igs2006/\n",
       "2007  /mnt/Data/bogdanm/tmp_GipsyX/Trees/igs2007/\n",
       "2008  /mnt/Data/bogdanm/tmp_GipsyX/Trees/igs2008/\n",
       "2009  /mnt/Data/bogdanm/tmp_GipsyX/Trees/igs2009/\n",
       "2010  /mnt/Data/bogdanm/tmp_GipsyX/Trees/igs2010/\n",
       "2011  /mnt/Data/bogdanm/tmp_GipsyX/Trees/igs2011/\n",
       "2012  /mnt/Data/bogdanm/tmp_GipsyX/Trees/igs2012/"
      ]
     },
     "execution_count": 14,
     "metadata": {},
     "output_type": "execute_result"
    }
   ],
   "source": [
    "gen_trees(ionex_type=camb_aux.ionex_type,tmp_dir=camb_aux.tmp_dir,tree_options=camb_aux.tree_options)"
   ]
  },
  {
   "cell_type": "code",
   "execution_count": 21,
   "metadata": {
    "ExecuteTime": {
     "end_time": "2018-10-09T11:16:15.629844Z",
     "start_time": "2018-10-09T11:16:15.626108Z"
    }
   },
   "outputs": [
    {
     "name": "stdout",
     "output_type": "stream",
     "text": [
      "['GRN_STATION_CLK_WHITE:State:Pos:ConstantAdj']\n"
     ]
    }
   ],
   "source": [
    "for option in camb_aux.tree_options[1]:\n",
    "    print(option)"
   ]
  },
  {
   "cell_type": "code",
   "execution_count": 7,
   "metadata": {
    "ExecuteTime": {
     "end_time": "2018-10-09T08:49:48.016302Z",
     "start_time": "2018-10-09T08:49:48.002244Z"
    }
   },
   "outputs": [
    {
     "name": "stdout",
     "output_type": "stream",
     "text": [
      "2003 year tropnominals generation... Number of files to process: 365 | Adj. num_cores: 20\n",
      "2004 year tropnominals generation... Number of files to process: 366 | Adj. num_cores: 20\n",
      "2005 year tropnominals generation... Number of files to process: 365 | Adj. num_cores: 20\n",
      "2006 year tropnominals generation... Number of files to process: 365 | Adj. num_cores: 20\n"
     ]
    }
   ],
   "source": [
    "tropnom_table = gx_tdps.gen_tropnom(tmp_dir=camb_aux.tmp_dir,VMF1_dir=camb_aux.VMF1_dir,num_cores=camb_aux.num_cores,rate=camb_aux.rate,staDb_dir=camb_aux.staDb_dir)"
   ]
  },
  {
   "cell_type": "code",
   "execution_count": 8,
   "metadata": {
    "ExecuteTime": {
     "end_time": "2018-10-09T08:49:48.988617Z",
     "start_time": "2018-10-09T08:49:48.977377Z"
    }
   },
   "outputs": [
    {
     "data": {
      "text/plain": [
       "array([189334800, 189442800,\n",
       "       '/mnt/Data/bogdanm/tmp_GipsyX/tropNom/2006/001/30h_tropNominalOut_VMF1.tdp',\n",
       "       <gcore.StationDataBase.StationDataBase object at 0x7f93f0abceb8>,\n",
       "       300, '/mnt/Data/bogdanm/Products/VMF1_Products', list(['CAMB'])],\n",
       "      dtype=object)"
      ]
     },
     "execution_count": 8,
     "metadata": {},
     "output_type": "execute_result"
    }
   ],
   "source": [
    "tropnom_table[0]"
   ]
  },
  {
   "cell_type": "code",
   "execution_count": 10,
   "metadata": {
    "ExecuteTime": {
     "end_time": "2018-10-09T09:14:51.195373Z",
     "start_time": "2018-10-09T09:14:51.192343Z"
    }
   },
   "outputs": [],
   "source": [
    "gx_tdps._gen_VMF1_tropNom(tropnom_param=tropnom_table[0])"
   ]
  },
  {
   "cell_type": "code",
   "execution_count": 35,
   "metadata": {
    "ExecuteTime": {
     "end_time": "2018-10-09T08:22:27.660799Z",
     "start_time": "2018-10-09T08:22:27.653202Z"
    }
   },
   "outputs": [
    {
     "ename": "TypeError",
     "evalue": "ufunc 'add' did not contain a loop with signature matching types dtype('<U4') dtype('<U4') dtype('<U4')",
     "output_type": "error",
     "traceback": [
      "\u001b[0;31m---------------------------------------------------------------------------\u001b[0m",
      "\u001b[0;31mTypeError\u001b[0m                                 Traceback (most recent call last)",
      "\u001b[0;32m<ipython-input-35-34ea400bc158>\u001b[0m in \u001b[0;36m<module>\u001b[0;34m()\u001b[0m\n\u001b[1;32m      1\u001b[0m \u001b[0ma\u001b[0m \u001b[0;34m=\u001b[0m \u001b[0;34m(\u001b[0m\u001b[0m_np\u001b[0m\u001b[0;34m.\u001b[0m\u001b[0mndarray\u001b[0m\u001b[0;34m(\u001b[0m\u001b[0;34m(\u001b[0m\u001b[0mlen\u001b[0m\u001b[0;34m(\u001b[0m\u001b[0mtropnom_table\u001b[0m\u001b[0;34m)\u001b[0m\u001b[0;34m)\u001b[0m\u001b[0;34m,\u001b[0m\u001b[0mdtype\u001b[0m\u001b[0;34m=\u001b[0m\u001b[0mstr\u001b[0m\u001b[0;34m)\u001b[0m\u001b[0;34m)\u001b[0m\u001b[0;34m\u001b[0m\u001b[0m\n\u001b[1;32m      2\u001b[0m \u001b[0;34m\u001b[0m\u001b[0m\n\u001b[0;32m----> 3\u001b[0;31m \u001b[0ma\u001b[0m \u001b[0;34m+=\u001b[0m \u001b[0;34m'test'\u001b[0m\u001b[0;34m\u001b[0m\u001b[0m\n\u001b[0m",
      "\u001b[0;31mTypeError\u001b[0m: ufunc 'add' did not contain a loop with signature matching types dtype('<U4') dtype('<U4') dtype('<U4')"
     ]
    }
   ],
   "source": [
    "a = (_np.ndarray((len(tropnom_table)),dtype=object))\n",
    "\n",
    "a.fill('test')\n"
   ]
  },
  {
   "cell_type": "code",
   "execution_count": 13,
   "metadata": {
    "ExecuteTime": {
     "end_time": "2018-10-09T10:01:37.551673Z",
     "start_time": "2018-10-09T10:01:37.512306Z"
    }
   },
   "outputs": [],
   "source": [
    "tree_options = [[   \n",
    "    # Stochastic Adjustment State\n",
    "        ['GRN_STATION_CLK_WHITE:State:Pos:StochasticAdj', '10 10 $GLOBAL_DATA_RATE WHITENOISE'],\n",
    "        # Tides section\n",
    "        ['GRN_STATION_CLK_WHITE:Tides:All', 'On'],\n",
    "        # ['GRN_STATION_CLK_WHITE:Tides:OceanLoad', '$OCEANLOAD'], #not needed as \"all on\"\n",
    "        ['GRN_STATION_CLK_WHITE:Tides:OceanLoadFile', '/mnt/Data/bogdanm/tmp_GipsyX/otl/ocnld_coeff/bigf.blq'],\n",
    "        # Trop section    \n",
    "        ['GRN_STATION_CLK_WHITE:Trop:GradEast', '0.0'],\n",
    "        ['GRN_STATION_CLK_WHITE:Trop:GradEast:StochasticAdj', '1.0 5e-6 $GLOBAL_DATA_RATE RANDOMWALK'],\n",
    "        ['GRN_STATION_CLK_WHITE:Trop:GradNorth', '0.0'],\n",
    "        ['GRN_STATION_CLK_WHITE:Trop:GradNorth:StochasticAdj', '1.0 5e-6 $GLOBAL_DATA_RATE RANDOMWALK'],\n",
    "        ['GRN_STATION_CLK_WHITE:Trop:Mapping', 'VMF1'],\n",
    "        ['GRN_STATION_CLK_WHITE:Trop:Model', 'On'],\n",
    "        ['GRN_STATION_CLK_WHITE:Trop:WetZ', '0.1'],\n",
    "        ['GRN_STATION_CLK_WHITE:Trop:WetZ:StochasticAdj', '0.5 5e-5 $GLOBAL_DATA_RATE RANDOMWALK'],\n",
    "        # Station properties. e.g. CAMB. So we will get wetz etc in the output. Highly important!!!\n",
    "        ['Station', '`cat $STATIONLIST`'+'\\nStation `staDb2TreeIn.py -s $STATIONLIST -y2kSecs $GLOBAL_EPOCH -d $STA_DB`'],\n",
    "        # VMF1dataDir path  \n",
    "        ['Station:VMF1dataDir', '/mnt/Data/bogdanm/Products/VMF1_Products'],\n",
    "        # Ion2nd\n",
    "        ['Global:Ion2nd','On'],\n",
    "        ['Global:Ion2nd:MagneticModel','IGRF'],\n",
    "        ['Global:Ion2nd:MagneticModel:IgrfCoefficientsFile', '$GOA_VAR/etc/igrf/igrf11coeffs.txt'],\n",
    "        ['Global:Ion2nd:StecModel', 'IONEX'],\n",
    "        ['Global:Ion2nd:StecModel:IonexFile:ShellHeight', '600.0e3'],\n",
    "        # GPS_BlockII as it is missing from default tree file\n",
    "        ['GPS_BlockII_Model', '=='],\n",
    "        ['GPS_BlockII_Model:AttitudeModel', 'gpsBlockII'],\n",
    "        # Satellite section needed for Gipsy to be able to extract satellite properties. Highly important!!!\n",
    "        ['Satellite','`cat $GNSSLIST`'+ '\\nSatellite `pcm.py -file $GNSS_ANT_OFF_PCM -epoch $GLOBAL_EPOCH -sat $GNSSLIST -param Antenna1`'],\n",
    "\n",
    "        ['Global:Input:TimeDepParms:NameFilter:Satellite\\.[C]\\w*.*\\.Clk\\.Bias:Degree','0'],\n",
    "        ['Global:Input:TimeDepParms:NameFilter:Satellite\\.[C]\\w*.*\\.Clk\\.Bias:MaxFormalError','0.4'],\n",
    "        ['Global:Input:TimeDepParms:NameFilter:Satellite\\.[C]\\w*.*\\.Clk\\.Bias:Strict','On'],\n",
    "        ['Global:Input:TimeDepParms:NameFilter:Satellite\\.[C]\\w*.*\\.Clk\\.Bias:Strict:MaxDx','1.0e-6'],\n",
    "        # Section with namefilter for state\n",
    "        ['Global:Input:TimeDepParms:NameFilter:Station\\..*\\.State\\.Pos\\..*',' '],\n",
    "        ['Global:Input:TimeDepParms:NameFilter:Station\\..*\\.Trop.*',' '],\n",
    "\n",
    "\n",
    "\n",
    "        ['Global:DataTypes:IonoFreePhaseC1C5:DataLinkSpec_LC_BDS:PostSmoothEdit','2e5 2e4 0.25 0.2 0.1 .05'],    \n",
    "        ['Global:DataTypes:IonoFreePhaseC1C5:DataLinkSpec_LC_BDS:SignalPath:Platforms','.* C.*'],\n",
    "\n",
    "        ['Global:DataTypes:IonoFreePhaseP1P2:DataLinkSpec_LC_GPS:PostSmoothEdit','2e5 2e4 0.125 0.1 0.05 .025'],\n",
    "\n",
    "        ['Global:DataTypes:IonoFreeRangeC1C5:DataLinkSpec_PC_BDS:PostSmoothEdit','2e5 2e4 25 20 10 5'],    \n",
    "        ['Global:DataTypes:IonoFreeRangeC1C5:DataLinkSpec_PC_BDS:SignalPath:Platforms','.* C.*'],     \n",
    "\n",
    "        ['Global:DataTypes:IonoFreeRangeP1P2:DataLinkSpec_PC_GPS:PostSmoothEdit','2e5 2e4 12.5 10 5 2.5'],     \n",
    "        ],\n",
    "        #Pop values. Values that will be elemenated\n",
    "        [['GRN_STATION_CLK_WHITE:State:Pos:ConstantAdj', None],['GRN_STATION_CLK_WHITE:State:Pos:ConstantAdj', None]]]"
   ]
  },
  {
   "cell_type": "code",
   "execution_count": 2,
   "metadata": {
    "ExecuteTime": {
     "end_time": "2018-10-09T10:38:54.686326Z",
     "start_time": "2018-10-09T10:38:54.681055Z"
    }
   },
   "outputs": [
    {
     "data": {
      "text/plain": [
       "[[['GRN_STATION_CLK_WHITE:State:Pos:StochasticAdj',\n",
       "   '10 10 $GLOBAL_DATA_RATE WHITENOISE'],\n",
       "  ['GRN_STATION_CLK_WHITE:Tides:All', 'On'],\n",
       "  ['GRN_STATION_CLK_WHITE:Tides:OceanLoadFile',\n",
       "   '/mnt/Data/bogdanm/tmp_GipsyX/otl/ocnld_coeff/bigf.blq'],\n",
       "  ['GRN_STATION_CLK_WHITE:Trop:GradEast', '0.0'],\n",
       "  ['GRN_STATION_CLK_WHITE:Trop:GradEast:StochasticAdj',\n",
       "   '1.0 5e-6 $GLOBAL_DATA_RATE RANDOMWALK'],\n",
       "  ['GRN_STATION_CLK_WHITE:Trop:GradNorth', '0.0'],\n",
       "  ['GRN_STATION_CLK_WHITE:Trop:GradNorth:StochasticAdj',\n",
       "   '1.0 5e-6 $GLOBAL_DATA_RATE RANDOMWALK'],\n",
       "  ['GRN_STATION_CLK_WHITE:Trop:Mapping', 'VMF1'],\n",
       "  ['GRN_STATION_CLK_WHITE:Trop:Model', 'On'],\n",
       "  ['GRN_STATION_CLK_WHITE:Trop:WetZ', '0.1'],\n",
       "  ['GRN_STATION_CLK_WHITE:Trop:WetZ:StochasticAdj',\n",
       "   '0.5 5e-5 $GLOBAL_DATA_RATE RANDOMWALK'],\n",
       "  ['Station',\n",
       "   '`cat $STATIONLIST`\\nStation `staDb2TreeIn.py -s $STATIONLIST -y2kSecs $GLOBAL_EPOCH -d $STA_DB`'],\n",
       "  ['Station:VMF1dataDir', '/mnt/Data/bogdanm/Products/VMF1_Products'],\n",
       "  ['Global:Ion2nd', 'On'],\n",
       "  ['Global:Ion2nd:MagneticModel', 'IGRF'],\n",
       "  ['Global:Ion2nd:MagneticModel:IgrfCoefficientsFile',\n",
       "   '$GOA_VAR/etc/igrf/igrf11coeffs.txt'],\n",
       "  ['Global:Ion2nd:StecModel', 'IONEX'],\n",
       "  ['Global:Ion2nd:StecModel:IonexFile:ShellHeight', '600.0e3'],\n",
       "  ['GPS_BlockII_Model', '=='],\n",
       "  ['GPS_BlockII_Model:AttitudeModel', 'gpsBlockII'],\n",
       "  ['Satellite',\n",
       "   '`cat $GNSSLIST`\\nSatellite `pcm.py -file $GNSS_ANT_OFF_PCM -epoch $GLOBAL_EPOCH -sat $GNSSLIST -param Antenna1`'],\n",
       "  ['Global:Input:TimeDepParms:NameFilter:Satellite\\\\.[C]\\\\w*.*\\\\.Clk\\\\.Bias:Degree',\n",
       "   '0'],\n",
       "  ['Global:Input:TimeDepParms:NameFilter:Satellite\\\\.[C]\\\\w*.*\\\\.Clk\\\\.Bias:MaxFormalError',\n",
       "   '0.4'],\n",
       "  ['Global:Input:TimeDepParms:NameFilter:Satellite\\\\.[C]\\\\w*.*\\\\.Clk\\\\.Bias:Strict',\n",
       "   'On'],\n",
       "  ['Global:Input:TimeDepParms:NameFilter:Satellite\\\\.[C]\\\\w*.*\\\\.Clk\\\\.Bias:Strict:MaxDx',\n",
       "   '1.0e-6'],\n",
       "  ['Global:Input:TimeDepParms:NameFilter:Station\\\\..*\\\\.State\\\\.Pos\\\\..*',\n",
       "   ' '],\n",
       "  ['Global:Input:TimeDepParms:NameFilter:Station\\\\..*\\\\.Trop.*', ' '],\n",
       "  ['Global:DataTypes:IonoFreePhaseC1C5:DataLinkSpec_LC_BDS:PostSmoothEdit',\n",
       "   '2e5 2e4 0.25 0.2 0.1 .05'],\n",
       "  ['Global:DataTypes:IonoFreePhaseC1C5:DataLinkSpec_LC_BDS:SignalPath:Platforms',\n",
       "   '.* C.*'],\n",
       "  ['Global:DataTypes:IonoFreePhaseP1P2:DataLinkSpec_LC_GPS:PostSmoothEdit',\n",
       "   '2e5 2e4 0.125 0.1 0.05 .025'],\n",
       "  ['Global:DataTypes:IonoFreeRangeC1C5:DataLinkSpec_PC_BDS:PostSmoothEdit',\n",
       "   '2e5 2e4 25 20 10 5'],\n",
       "  ['Global:DataTypes:IonoFreeRangeC1C5:DataLinkSpec_PC_BDS:SignalPath:Platforms',\n",
       "   '.* C.*'],\n",
       "  ['Global:DataTypes:IonoFreeRangeP1P2:DataLinkSpec_PC_GPS:PostSmoothEdit',\n",
       "   '2e5 2e4 12.5 10 5 2.5']],\n",
       " [['GRN_STATION_CLK_WHITE:State:Pos:ConstantAdj']]]"
      ]
     },
     "execution_count": 2,
     "metadata": {},
     "output_type": "execute_result"
    }
   ],
   "source": [
    "import trees_options as _trees_options\n",
    "_trees_options.all_on_kinematic"
   ]
  },
  {
   "cell_type": "code",
   "execution_count": 14,
   "metadata": {
    "ExecuteTime": {
     "end_time": "2018-10-09T08:15:00.316092Z",
     "start_time": "2018-10-09T08:15:00.292635Z"
    }
   },
   "outputs": [
    {
     "ename": "ValueError",
     "evalue": "all the input array dimensions except for the concatenation axis must match exactly",
     "output_type": "error",
     "traceback": [
      "\u001b[0;31m---------------------------------------------------------------------------\u001b[0m",
      "\u001b[0;31mValueError\u001b[0m                                Traceback (most recent call last)",
      "\u001b[0;32m<ipython-input-14-1fac24f95de2>\u001b[0m in \u001b[0;36m<module>\u001b[0;34m()\u001b[0m\n\u001b[0;32m----> 1\u001b[0;31m \u001b[0m_np\u001b[0m\u001b[0;34m.\u001b[0m\u001b[0mcolumn_stack\u001b[0m\u001b[0;34m(\u001b[0m\u001b[0;34m(\u001b[0m\u001b[0mtropnom_table\u001b[0m\u001b[0;34m,\u001b[0m\u001b[0mcamb_aux\u001b[0m\u001b[0;34m.\u001b[0m\u001b[0mstaDb_dir\u001b[0m\u001b[0;34m)\u001b[0m\u001b[0;34m)\u001b[0m\u001b[0;34m\u001b[0m\u001b[0m\n\u001b[0m",
      "\u001b[0;32m~/miniconda3/envs/py35/lib/python3.5/site-packages/numpy/lib/shape_base.py\u001b[0m in \u001b[0;36mcolumn_stack\u001b[0;34m(tup)\u001b[0m\n\u001b[1;32m    367\u001b[0m             \u001b[0marr\u001b[0m \u001b[0;34m=\u001b[0m \u001b[0marray\u001b[0m\u001b[0;34m(\u001b[0m\u001b[0marr\u001b[0m\u001b[0;34m,\u001b[0m \u001b[0mcopy\u001b[0m\u001b[0;34m=\u001b[0m\u001b[0;32mFalse\u001b[0m\u001b[0;34m,\u001b[0m \u001b[0msubok\u001b[0m\u001b[0;34m=\u001b[0m\u001b[0;32mTrue\u001b[0m\u001b[0;34m,\u001b[0m \u001b[0mndmin\u001b[0m\u001b[0;34m=\u001b[0m\u001b[0;36m2\u001b[0m\u001b[0;34m)\u001b[0m\u001b[0;34m.\u001b[0m\u001b[0mT\u001b[0m\u001b[0;34m\u001b[0m\u001b[0m\n\u001b[1;32m    368\u001b[0m         \u001b[0marrays\u001b[0m\u001b[0;34m.\u001b[0m\u001b[0mappend\u001b[0m\u001b[0;34m(\u001b[0m\u001b[0marr\u001b[0m\u001b[0;34m)\u001b[0m\u001b[0;34m\u001b[0m\u001b[0m\n\u001b[0;32m--> 369\u001b[0;31m     \u001b[0;32mreturn\u001b[0m \u001b[0m_nx\u001b[0m\u001b[0;34m.\u001b[0m\u001b[0mconcatenate\u001b[0m\u001b[0;34m(\u001b[0m\u001b[0marrays\u001b[0m\u001b[0;34m,\u001b[0m \u001b[0;36m1\u001b[0m\u001b[0;34m)\u001b[0m\u001b[0;34m\u001b[0m\u001b[0m\n\u001b[0m\u001b[1;32m    370\u001b[0m \u001b[0;34m\u001b[0m\u001b[0m\n\u001b[1;32m    371\u001b[0m \u001b[0;32mdef\u001b[0m \u001b[0mdstack\u001b[0m\u001b[0;34m(\u001b[0m\u001b[0mtup\u001b[0m\u001b[0;34m)\u001b[0m\u001b[0;34m:\u001b[0m\u001b[0;34m\u001b[0m\u001b[0m\n",
      "\u001b[0;31mValueError\u001b[0m: all the input array dimensions except for the concatenation axis must match exactly"
     ]
    }
   ],
   "source": [
    "_np.column_stack((tropnom_table,camb_aux.staDb_dir))"
   ]
  },
  {
   "cell_type": "code",
   "execution_count": 15,
   "metadata": {
    "ExecuteTime": {
     "end_time": "2018-10-09T08:15:00.709092Z",
     "start_time": "2018-10-09T08:15:00.706515Z"
    }
   },
   "outputs": [],
   "source": [
    "import numpy as _np\n",
    "import os as _os\n"
   ]
  },
  {
   "cell_type": "code",
   "execution_count": null,
   "metadata": {},
   "outputs": [],
   "source": []
  },
  {
   "cell_type": "code",
   "execution_count": 8,
   "metadata": {
    "ExecuteTime": {
     "end_time": "2018-10-09T03:11:25.602152Z",
     "start_time": "2018-10-09T03:11:25.597101Z"
    }
   },
   "outputs": [],
   "source": [
    "drinfo = np.load('/mnt/Data/bogdanm/tmp_GipsyX/rnx_dr/drinfo.npz')"
   ]
  },
  {
   "cell_type": "code",
   "execution_count": 12,
   "metadata": {
    "ExecuteTime": {
     "end_time": "2018-10-09T03:12:00.684170Z",
     "start_time": "2018-10-09T03:11:59.758324Z"
    }
   },
   "outputs": [
    {
     "data": {
      "text/plain": [
       "array([array([['CAMB', 1894, numpy.datetime64('2003-01-01T00:05:00.000000'),\n",
       "        ..., 26, array(['G'], dtype=object),\n",
       "        '/mnt/Data/bogdanm/tmp_GipsyX/rnx_dr/CAMB/2003/001/camb0010.03d.Z.dr.gz'],\n",
       "       ['CAMB', 2106, numpy.datetime64('2003-01-02T00:05:00.000000'),\n",
       "        ..., 26, array(['G'], dtype=object),\n",
       "        '/mnt/Data/bogdanm/tmp_GipsyX/rnx_dr/CAMB/2003/002/camb0020.03d.Z.dr.gz'],\n",
       "       ['CAMB', 2095, numpy.datetime64('2003-01-03T00:05:00.000000'),\n",
       "        ..., 26, array(['G'], dtype=object),\n",
       "        '/mnt/Data/bogdanm/tmp_GipsyX/rnx_dr/CAMB/2003/003/camb0030.03d.Z.dr.gz'],\n",
       "       ...,\n",
       "       ['CAMB', 2604, numpy.datetime64('2006-12-29T00:00:00.000000'),\n",
       "        ..., 31, array(['G'], dtype=object),\n",
       "        '/mnt/Data/bogdanm/tmp_GipsyX/rnx_dr/CAMB/2006/363/camb3630.06d.Z.dr.gz'],\n",
       "       ['CAMB', 2449, numpy.datetime64('2006-12-30T00:00:00.000000'),\n",
       "        ..., 31, array(['G'], dtype=object),\n",
       "        '/mnt/Data/bogdanm/tmp_GipsyX/rnx_dr/CAMB/2006/364/camb3640.06d.Z.dr.gz'],\n",
       "       ['CAMB', 2334, numpy.datetime64('2006-12-31T00:00:00.000000'),\n",
       "        ..., 31, array(['G'], dtype=object),\n",
       "        '/mnt/Data/bogdanm/tmp_GipsyX/rnx_dr/CAMB/2006/365/camb3650.06d.Z.dr.gz']],\n",
       "      dtype=object)], dtype=object)"
      ]
     },
     "execution_count": 12,
     "metadata": {},
     "output_type": "execute_result"
    }
   ],
   "source": [
    "drinfo['drinfo']"
   ]
  },
  {
   "cell_type": "code",
   "execution_count": 6,
   "metadata": {
    "ExecuteTime": {
     "end_time": "2018-10-09T04:13:45.401487Z",
     "start_time": "2018-10-09T04:13:45.393014Z"
    }
   },
   "outputs": [],
   "source": [
    "from gxlib import gx_merge"
   ]
  },
  {
   "cell_type": "code",
   "execution_count": 17,
   "metadata": {
    "ExecuteTime": {
     "end_time": "2018-10-09T05:01:51.367534Z",
     "start_time": "2018-10-09T05:01:51.185333Z"
    }
   },
   "outputs": [
    {
     "data": {
      "text/plain": [
       "array([3, numpy.datetime64('2003-01-02T00:05:00.000000'),\n",
       "       numpy.datetime64('2003-01-02T23:55:00.000000'),\n",
       "       '/mnt/Data/bogdanm/tmp_GipsyX/rnx_dr/CAMB/2003/001/camb0010.03d.Z.dr.gz',\n",
       "       '/mnt/Data/bogdanm/tmp_GipsyX/rnx_dr/CAMB/2003/002/camb0020.03d.Z.dr.gz',\n",
       "       '/mnt/Data/bogdanm/tmp_GipsyX/rnx_dr/CAMB/2003/003/camb0030.03d.Z.dr.gz'],\n",
       "      dtype=object)"
      ]
     },
     "execution_count": 17,
     "metadata": {},
     "output_type": "execute_result"
    }
   ],
   "source": [
    "gx_merge.get_merge_table(tmp_dir=camb_aux.tmp_dir)[0][1]"
   ]
  },
  {
   "cell_type": "code",
   "execution_count": null,
   "metadata": {},
   "outputs": [],
   "source": []
  },
  {
   "cell_type": "code",
   "execution_count": null,
   "metadata": {},
   "outputs": [],
   "source": []
  },
  {
   "cell_type": "code",
   "execution_count": null,
   "metadata": {},
   "outputs": [],
   "source": []
  },
  {
   "cell_type": "code",
   "execution_count": null,
   "metadata": {},
   "outputs": [],
   "source": []
  },
  {
   "cell_type": "code",
   "execution_count": null,
   "metadata": {},
   "outputs": [],
   "source": []
  },
  {
   "cell_type": "code",
   "execution_count": 22,
   "metadata": {
    "ExecuteTime": {
     "end_time": "2018-10-09T05:11:16.797341Z",
     "start_time": "2018-10-09T05:11:16.687658Z"
    }
   },
   "outputs": [],
   "source": [
    "set_test = gx_merge.get_merge_table(tmp_dir=camb_aux.tmp_dir)[0][1]"
   ]
  },
  {
   "cell_type": "code",
   "execution_count": 23,
   "metadata": {
    "ExecuteTime": {
     "end_time": "2018-10-09T05:11:17.480153Z",
     "start_time": "2018-10-09T05:11:17.207231Z"
    }
   },
   "outputs": [],
   "source": [
    "gx_merge._merge(merge_set=set_test)"
   ]
  },
  {
   "cell_type": "code",
   "execution_count": 3,
   "metadata": {
    "ExecuteTime": {
     "end_time": "2018-10-09T04:07:21.397772Z",
     "start_time": "2018-10-09T04:07:21.392294Z"
    }
   },
   "outputs": [],
   "source": []
  },
  {
   "cell_type": "code",
   "execution_count": 58,
   "metadata": {
    "ExecuteTime": {
     "end_time": "2018-10-09T05:39:20.856127Z",
     "start_time": "2018-10-09T05:39:20.816594Z"
    }
   },
   "outputs": [],
   "source": [
    "import os as _os\n",
    "from gxlib.gx_aux import J2000origin\n",
    "from subprocess import Popen as _Popen\n",
    "def _merge(merge_set):\n",
    "    '''Expects a merge set of 3 files [class,time,file0,file1,file2]. Merges all files into file1_30h. file1 must be a class 3 file\n",
    "    Constructs 30h arcs with drMerge.py.\n",
    "    Sample input:\n",
    "    drMerge.py -i isba0940.15o.dr ohln0940.15o.dr -start 2015-04-04 00:00:00 -end 2015-04-04 04:00:00\n",
    "    '''\n",
    "    if not _os.path.isfile((merge_set[4])[:-6]+'_30h.dr.gz'):\n",
    "        #Computing time boundaries of the merge\n",
    "        merge_begin = ((merge_set[1].astype('datetime64') - _np.timedelta64( 3,'[h]'))-J2000origin).astype('timedelta64[s]').astype(int).astype(str)\n",
    "        merge_end =   ((merge_set[1].astype('datetime64') + _np.timedelta64(27,'[h]'))-J2000origin).astype('timedelta64[s]').astype(int).astype(str)\n",
    "        \n",
    "        drMerge_proc = _Popen(['drMerge', merge_begin, merge_end,\\\n",
    "                         os.path.basename(merge_set[4])[:-6]+'_30h.dr.gz',\\\n",
    "                         merge_set[3], merge_set[4], merge_set[5] ],\\\n",
    "                         cwd=_os.path.dirname(merge_set[4]))\n",
    "        drMerge_proc.wait()\n",
    "\n",
    "#         drMerge_proc = _Popen(['drMerge', merge_begin, merge_end, merge_set[3], merge_set[4], merge_set[5] ], cwd=_os.path.dirname(merge_set[4]))\n",
    "#         drMerge_proc.wait()\n",
    "#         print('drMerge', merge_begin, merge_end, merge_set[3], merge_set[4], merge_set[5])\n"
   ]
  },
  {
   "cell_type": "code",
   "execution_count": 59,
   "metadata": {
    "ExecuteTime": {
     "end_time": "2018-10-09T05:39:21.379709Z",
     "start_time": "2018-10-09T05:39:21.141038Z"
    }
   },
   "outputs": [],
   "source": [
    "_merge(set_test)"
   ]
  },
  {
   "cell_type": "code",
   "execution_count": null,
   "metadata": {
    "ExecuteTime": {
     "end_time": "2018-10-09T05:30:31.817608Z",
     "start_time": "2018-10-09T05:30:31.812503Z"
    }
   },
   "outputs": [],
   "source": []
  },
  {
   "cell_type": "code",
   "execution_count": null,
   "metadata": {},
   "outputs": [],
   "source": [
    "drMerge 94727100 94835100 /mnt/Data/bogdanm/tmp_GipsyX/rnx_dr/CAMB/2003/001/camb0010.03d.Z.dr.gz /mnt/Data/bogdanm/tmp_GipsyX/rnx_dr/CAMB/2003/002/camb0020.03d.Z.dr.gz /mnt/Data/bogdanm/tmp_GipsyX/rnx_dr/CAMB/2003/003/camb0030.03d.Z.dr.gz"
   ]
  },
  {
   "cell_type": "code",
   "execution_count": 40,
   "metadata": {
    "ExecuteTime": {
     "end_time": "2018-10-09T05:22:10.284993Z",
     "start_time": "2018-10-09T05:22:10.271962Z"
    }
   },
   "outputs": [
    {
     "data": {
      "text/plain": [
       "'94727100000000'"
      ]
     },
     "execution_count": 40,
     "metadata": {},
     "output_type": "execute_result"
    }
   ],
   "source": [
    "((_np.datetime64('2003-01-02T00:05:00.000000')- _np.timedelta64( 3,'[h]')) - J2000origin.astype('timedelta64[s]')).astype(int).astype(str)"
   ]
  },
  {
   "cell_type": "code",
   "execution_count": 39,
   "metadata": {
    "ExecuteTime": {
     "end_time": "2018-10-09T05:21:05.114313Z",
     "start_time": "2018-10-09T05:21:05.102889Z"
    }
   },
   "outputs": [
    {
     "data": {
      "text/plain": [
       "numpy.datetime64('1973-01-02T11:55:00.000000')"
      ]
     },
     "execution_count": 39,
     "metadata": {},
     "output_type": "execute_result"
    }
   ],
   "source": [
    "(_np.datetime64('2003-01-02T23:55:00.000000') - J2000origin.astype('timedelta64[s]'))#.astype(int).astype(str)"
   ]
  },
  {
   "cell_type": "code",
   "execution_count": null,
   "metadata": {},
   "outputs": [],
   "source": []
  },
  {
   "cell_type": "code",
   "execution_count": null,
   "metadata": {},
   "outputs": [],
   "source": []
  },
  {
   "cell_type": "code",
   "execution_count": null,
   "metadata": {},
   "outputs": [],
   "source": []
  },
  {
   "cell_type": "code",
   "execution_count": null,
   "metadata": {},
   "outputs": [],
   "source": []
  },
  {
   "cell_type": "code",
   "execution_count": 9,
   "metadata": {
    "ExecuteTime": {
     "end_time": "2018-10-08T06:15:29.227698Z",
     "start_time": "2018-10-08T06:15:28.873810Z"
    }
   },
   "outputs": [],
   "source": [
    "# stations_list=['CAMB','NEWL','BRAE','HERT','LOFT','LERW','WEAR','SHEE']\n",
    "# years_list=[2007,2008,2009,2010,2011,2012]\n",
    "stations_list=['CAMB','NEWL','BRAE','HERT','LOFT','LERW','WEAR','SHEE']\n",
    "# stations_list=['CAMB','NEWL']\n",
    "years_list=[2007,2008,2009,2010]\n",
    "# years_list=[2007,]\n",
    "rnx = rnx2dr(stations_list=stations_list,years_list=years_list, project_name='bigf_np',num_cores=20,)\n",
    "# rnx.analyse()"
   ]
  },
  {
   "cell_type": "code",
   "execution_count": 10,
   "metadata": {
    "ExecuteTime": {
     "end_time": "2018-10-08T06:15:45.279547Z",
     "start_time": "2018-10-08T06:15:37.931726Z"
    }
   },
   "outputs": [
    {
     "name": "stdout",
     "output_type": "stream",
     "text": [
      "CAMB station conversion to binary...\n",
      "Number of files to process: 1126 | Adj. num_cores: 20 | Chunksize: 57 | Done!\n",
      "NEWL station conversion to binary...\n",
      "Number of files to process: 1310 | Adj. num_cores: 20 | Chunksize: 66 | Done!\n",
      "BRAE station conversion to binary...\n",
      "Number of files to process: 1441 | Adj. num_cores: 20 | Chunksize: 73 | Done!\n",
      "HERT station conversion to binary...\n",
      "Number of files to process: 1451 | Adj. num_cores: 20 | Chunksize: 73 | Done!\n",
      "LOFT station conversion to binary...\n",
      "Number of files to process: 1443 | Adj. num_cores: 20 | Chunksize: 73 | Done!\n",
      "LERW station conversion to binary...\n",
      "Number of files to process: 1087 | Adj. num_cores: 20 | Chunksize: 55 | Done!\n",
      "WEAR station conversion to binary...\n",
      "Number of files to process: 1440 | Adj. num_cores: 20 | Chunksize: 72 | Done!\n",
      "SHEE station conversion to binary...\n",
      "Number of files to process: 1157 | Adj. num_cores: 20 | Chunksize: 58 | Done!\n"
     ]
    }
   ],
   "source": [
    "rnx.rnx2dr()"
   ]
  },
  {
   "cell_type": "code",
   "execution_count": null,
   "metadata": {
    "ExecuteTime": {
     "end_time": "2018-10-08T06:07:00.169711Z",
     "start_time": "2018-10-08T06:07:00.158041Z"
    }
   },
   "outputs": [],
   "source": []
  },
  {
   "cell_type": "code",
   "execution_count": 15,
   "metadata": {
    "ExecuteTime": {
     "end_time": "2018-10-08T06:07:29.315203Z",
     "start_time": "2018-10-08T06:07:28.968312Z"
    }
   },
   "outputs": [
    {
     "data": {
      "text/plain": [
       "array([array(['/mnt/Data/bogdanm/GNSS_data/BIGF_data/daily30s/2007/001/camb0010.07d.Z',\n",
       "       '/mnt/Data/bogdanm/GNSS_data/BIGF_data/daily30s/2007/002/camb0020.07d.Z',\n",
       "       '/mnt/Data/bogdanm/GNSS_data/BIGF_data/daily30s/2007/003/camb0030.07d.Z',\n",
       "       ...,\n",
       "       '/mnt/Data/bogdanm/GNSS_data/BIGF_data/daily30s/2010/082/camb0820.10d.Z',\n",
       "       '/mnt/Data/bogdanm/GNSS_data/BIGF_data/daily30s/2010/083/camb0830.10d.Z',\n",
       "       '/mnt/Data/bogdanm/GNSS_data/BIGF_data/daily30s/2010/084/camb0840.10d.Z'],\n",
       "      dtype='<U70'),\n",
       "       array(['/mnt/Data/bogdanm/GNSS_data/BIGF_data/daily30s/2007/001/newl0010.07d.Z',\n",
       "       '/mnt/Data/bogdanm/GNSS_data/BIGF_data/daily30s/2007/002/newl0020.07d.Z',\n",
       "       '/mnt/Data/bogdanm/GNSS_data/BIGF_data/daily30s/2007/003/newl0030.07d.Z',\n",
       "       ...,\n",
       "       '/mnt/Data/bogdanm/GNSS_data/BIGF_data/daily30s/2010/363/newl3630.10d.Z',\n",
       "       '/mnt/Data/bogdanm/GNSS_data/BIGF_data/daily30s/2010/364/newl3640.10d.Z',\n",
       "       '/mnt/Data/bogdanm/GNSS_data/BIGF_data/daily30s/2010/365/newl3650.10d.Z'],\n",
       "      dtype='<U70'),\n",
       "       array(['/mnt/Data/bogdanm/GNSS_data/BIGF_data/daily30s/2007/001/brae0010.07d.Z',\n",
       "       '/mnt/Data/bogdanm/GNSS_data/BIGF_data/daily30s/2007/002/brae0020.07d.Z',\n",
       "       '/mnt/Data/bogdanm/GNSS_data/BIGF_data/daily30s/2007/003/brae0030.07d.Z',\n",
       "       ...,\n",
       "       '/mnt/Data/bogdanm/GNSS_data/BIGF_data/daily30s/2010/363/brae3630.10d.Z',\n",
       "       '/mnt/Data/bogdanm/GNSS_data/BIGF_data/daily30s/2010/364/brae3640.10d.Z',\n",
       "       '/mnt/Data/bogdanm/GNSS_data/BIGF_data/daily30s/2010/365/brae3650.10d.Z'],\n",
       "      dtype='<U70'),\n",
       "       array(['/mnt/Data/bogdanm/GNSS_data/BIGF_data/daily30s/2007/001/hert0010.07d.Z',\n",
       "       '/mnt/Data/bogdanm/GNSS_data/BIGF_data/daily30s/2007/002/hert0020.07d.Z',\n",
       "       '/mnt/Data/bogdanm/GNSS_data/BIGF_data/daily30s/2007/003/hert0030.07d.Z',\n",
       "       ...,\n",
       "       '/mnt/Data/bogdanm/GNSS_data/BIGF_data/daily30s/2010/363/hert3630.10d.Z',\n",
       "       '/mnt/Data/bogdanm/GNSS_data/BIGF_data/daily30s/2010/364/hert3640.10d.Z',\n",
       "       '/mnt/Data/bogdanm/GNSS_data/BIGF_data/daily30s/2010/365/hert3650.10d.Z'],\n",
       "      dtype='<U70'),\n",
       "       array(['/mnt/Data/bogdanm/GNSS_data/BIGF_data/daily30s/2007/001/loft0010.07d.Z',\n",
       "       '/mnt/Data/bogdanm/GNSS_data/BIGF_data/daily30s/2007/002/loft0020.07d.Z',\n",
       "       '/mnt/Data/bogdanm/GNSS_data/BIGF_data/daily30s/2007/003/loft0030.07d.Z',\n",
       "       ...,\n",
       "       '/mnt/Data/bogdanm/GNSS_data/BIGF_data/daily30s/2010/363/loft3630.10d.Z',\n",
       "       '/mnt/Data/bogdanm/GNSS_data/BIGF_data/daily30s/2010/364/loft3640.10d.Z',\n",
       "       '/mnt/Data/bogdanm/GNSS_data/BIGF_data/daily30s/2010/365/loft3650.10d.Z'],\n",
       "      dtype='<U70'),\n",
       "       array(['/mnt/Data/bogdanm/GNSS_data/BIGF_data/daily30s/2007/001/lerw0010.07d.Z',\n",
       "       '/mnt/Data/bogdanm/GNSS_data/BIGF_data/daily30s/2007/002/lerw0020.07d.Z',\n",
       "       '/mnt/Data/bogdanm/GNSS_data/BIGF_data/daily30s/2007/003/lerw0030.07d.Z',\n",
       "       ...,\n",
       "       '/mnt/Data/bogdanm/GNSS_data/BIGF_data/daily30s/2010/011/lerw0110.10d.Z',\n",
       "       '/mnt/Data/bogdanm/GNSS_data/BIGF_data/daily30s/2010/012/lerw0120.10d.Z',\n",
       "       '/mnt/Data/bogdanm/GNSS_data/BIGF_data/daily30s/2010/013/lerw0130.10d.Z'],\n",
       "      dtype='<U70'),\n",
       "       array(['/mnt/Data/bogdanm/GNSS_data/BIGF_data/daily30s/2007/001/wear0010.07d.Z',\n",
       "       '/mnt/Data/bogdanm/GNSS_data/BIGF_data/daily30s/2007/002/wear0020.07d.Z',\n",
       "       '/mnt/Data/bogdanm/GNSS_data/BIGF_data/daily30s/2007/003/wear0030.07d.Z',\n",
       "       ...,\n",
       "       '/mnt/Data/bogdanm/GNSS_data/BIGF_data/daily30s/2010/363/wear3630.10d.Z',\n",
       "       '/mnt/Data/bogdanm/GNSS_data/BIGF_data/daily30s/2010/364/wear3640.10d.Z',\n",
       "       '/mnt/Data/bogdanm/GNSS_data/BIGF_data/daily30s/2010/365/wear3650.10d.Z'],\n",
       "      dtype='<U70'),\n",
       "       array(['/mnt/Data/bogdanm/GNSS_data/BIGF_data/daily30s/2007/003/shee0030.07d.Z',\n",
       "       '/mnt/Data/bogdanm/GNSS_data/BIGF_data/daily30s/2007/004/shee0040.07d.Z',\n",
       "       '/mnt/Data/bogdanm/GNSS_data/BIGF_data/daily30s/2007/005/shee0050.07d.Z',\n",
       "       ...,\n",
       "       '/mnt/Data/bogdanm/GNSS_data/BIGF_data/daily30s/2010/363/shee3630.10d.Z',\n",
       "       '/mnt/Data/bogdanm/GNSS_data/BIGF_data/daily30s/2010/364/shee3640.10d.Z',\n",
       "       '/mnt/Data/bogdanm/GNSS_data/BIGF_data/daily30s/2010/365/shee3650.10d.Z'],\n",
       "      dtype='<U70')], dtype=object)"
      ]
     },
     "execution_count": 15,
     "metadata": {},
     "output_type": "execute_result"
    }
   ],
   "source": [
    "rnx._select_rnx()"
   ]
  },
  {
   "cell_type": "code",
   "execution_count": 10,
   "metadata": {
    "ExecuteTime": {
     "end_time": "2018-10-08T05:08:59.641675Z",
     "start_time": "2018-10-08T05:08:59.637753Z"
    }
   },
   "outputs": [
    {
     "data": {
      "text/plain": [
       "[2007, 2008, 2009, 2010]"
      ]
     },
     "execution_count": 10,
     "metadata": {},
     "output_type": "execute_result"
    }
   ],
   "source": [
    "rnx.years_list"
   ]
  },
  {
   "cell_type": "code",
   "execution_count": 11,
   "metadata": {
    "ExecuteTime": {
     "end_time": "2018-10-08T05:09:11.753634Z",
     "start_time": "2018-10-08T05:09:11.749915Z"
    }
   },
   "outputs": [
    {
     "data": {
      "text/plain": [
       "'/mnt/Data/bogdanm/GNSS_data/BIGF_data/daily30s'"
      ]
     },
     "execution_count": 11,
     "metadata": {},
     "output_type": "execute_result"
    }
   ],
   "source": [
    "rnx.rnx_dir"
   ]
  },
  {
   "cell_type": "code",
   "execution_count": 18,
   "metadata": {
    "ExecuteTime": {
     "end_time": "2018-10-08T05:12:04.975708Z",
     "start_time": "2018-10-08T05:12:04.640106Z"
    }
   },
   "outputs": [
    {
     "data": {
      "text/plain": [
       "array(['/mnt/Data/bogdanm/GNSS_data/BIGF_data/daily30s/2007/001/camb0010.07d.Z',\n",
       "       '/mnt/Data/bogdanm/GNSS_data/BIGF_data/daily30s/2007/002/camb0020.07d.Z',\n",
       "       '/mnt/Data/bogdanm/GNSS_data/BIGF_data/daily30s/2007/003/camb0030.07d.Z',\n",
       "       ...,\n",
       "       '/mnt/Data/bogdanm/GNSS_data/BIGF_data/daily30s/2010/082/camb0820.10d.Z',\n",
       "       '/mnt/Data/bogdanm/GNSS_data/BIGF_data/daily30s/2010/083/camb0830.10d.Z',\n",
       "       '/mnt/Data/bogdanm/GNSS_data/BIGF_data/daily30s/2010/084/camb0840.10d.Z'],\n",
       "      dtype='<U70')"
      ]
     },
     "execution_count": 18,
     "metadata": {},
     "output_type": "execute_result"
    }
   ],
   "source": [
    "gx_aux.select_rnx(rnx_dir=rnx.rnx_dir,stations_list=rnx.stations_list,years_list=rnx.years_list)[0]"
   ]
  },
  {
   "cell_type": "code",
   "execution_count": 31,
   "metadata": {
    "ExecuteTime": {
     "end_time": "2018-10-08T03:46:58.886632Z",
     "start_time": "2018-10-08T03:46:58.872982Z"
    }
   },
   "outputs": [
    {
     "data": {
      "text/plain": [
       "<module 'lib.aux' from '/home/bogdanm/Desktop/GipsyX_Wrapper/lib/aux.py'>"
      ]
     },
     "execution_count": 31,
     "metadata": {},
     "output_type": "execute_result"
    }
   ],
   "source": []
  },
  {
   "cell_type": "code",
   "execution_count": 25,
   "metadata": {
    "ExecuteTime": {
     "end_time": "2018-10-08T03:44:58.964969Z",
     "start_time": "2018-10-08T03:44:58.952337Z"
    }
   },
   "outputs": [],
   "source": [
    "%aimport lib.aux"
   ]
  },
  {
   "cell_type": "code",
   "execution_count": null,
   "metadata": {
    "ExecuteTime": {
     "end_time": "2018-09-25T13:17:37.903997Z",
     "start_time": "2018-09-25T13:17:37.754171Z"
    }
   },
   "outputs": [],
   "source": [
    "rnx._get_tdps_pn(file='/mnt/Data/bogdanm/tmp_GipsyX/gd2e/2007/CAMB/001/smooth0_0.tdp')"
   ]
  },
  {
   "cell_type": "code",
   "execution_count": null,
   "metadata": {
    "ExecuteTime": {
     "end_time": "2018-09-25T05:09:34.797408Z",
     "start_time": "2018-09-25T05:09:34.706589Z"
    }
   },
   "outputs": [],
   "source": [
    "_get_tdps_pn(file='/mnt/Data/bogdanm/tmp_GipsyX/gd2e/2007/CAMB/001/smooth0_0.tdp')"
   ]
  },
  {
   "cell_type": "code",
   "execution_count": null,
   "metadata": {
    "ExecuteTime": {
     "end_time": "2018-09-24T06:51:12.681604Z",
     "start_time": "2018-09-24T06:50:06.288839Z"
    }
   },
   "outputs": [],
   "source": [
    "# rnx.gen_tropnom()"
   ]
  },
  {
   "cell_type": "code",
   "execution_count": null,
   "metadata": {
    "ExecuteTime": {
     "end_time": "2018-09-25T12:54:39.084801Z",
     "start_time": "2018-09-25T12:54:39.062549Z"
    }
   },
   "outputs": [],
   "source": [
    "def _get_tdps_pn(file):\n",
    "    # A working prototype for fast read and extract of tdp data\n",
    "        df = pd.read_table(file, sep='\\s+', header=None,\n",
    "                               usecols=[0, 1, 2, 3, 4], names=['time','nomvalue', 'value', 'sigma', 'type'])\n",
    "        df = df.pivot_table(index='time', columns='type')\n",
    "        \n",
    "        # Create output through dictionary concat\n",
    "        extracted_data = pd.concat({\n",
    "                                    'sigma '  : df['sigma'].iloc[:,np.arange(-11,-1)],\n",
    "                                    'nomvalue': df['nomvalue'].iloc[:,np.arange(-11,-1)],\n",
    "                                    'value'   : df['value'].iloc[:,np.arange(-11,-1)]\n",
    "                                    },axis=1)\n",
    "        \n",
    "        tdp = np.column_stack((df.index.values,extracted_data.values))\n",
    "        tdp_header = extracted_data.columns.values\n",
    "        \n",
    "        \n",
    "        return tdp,tdp_header"
   ]
  },
  {
   "cell_type": "code",
   "execution_count": null,
   "metadata": {
    "ExecuteTime": {
     "end_time": "2018-09-25T12:55:08.486582Z",
     "start_time": "2018-09-25T12:55:08.383774Z"
    }
   },
   "outputs": [],
   "source": [
    "tdps = _get_tdps_pn(file='/mnt/Data/bogdanm/tmp_GipsyX/gd2e/2007/CAMB/001/smooth0_0.tdp')\n",
    "tdps[0][0]"
   ]
  },
  {
   "cell_type": "code",
   "execution_count": null,
   "metadata": {
    "ExecuteTime": {
     "end_time": "2018-10-01T11:06:48.288671Z",
     "start_time": "2018-10-01T10:49:34.586706Z"
    }
   },
   "outputs": [],
   "source": [
    "'''FINAL WORKING VERSION. Processing with tropNominal tdp. no synth'''\n",
    "years_list=[2007,2008,2009,2010,2011,2012]\n",
    "stations_list=['CAMB',]T\n",
    "rnx = rnx2dr(stations_list=stations_list,\n",
    "                   years_list=years_list,\n",
    "                   project_name='camb_tdp_in',\n",
    "                   num_cores=25,\n",
    "                   tropNom_type='30h_tropNominalOut_VMF1.tdp')\n",
    "rnx.gd2e()"
   ]
  },
  {
   "cell_type": "code",
   "execution_count": null,
   "metadata": {
    "ExecuteTime": {
     "end_time": "2018-09-26T03:38:53.634587Z",
     "start_time": "2018-09-26T03:38:52.345024Z"
    }
   },
   "outputs": [],
   "source": [
    "'''FINAL WORKING VERSION. Processing small dataset with synthetic waveform in tropNominal tdp'''\n",
    "years_list=[2007,2008,2009,2010,2011,2012]\n",
    "stations_list=['CAMB',]\n",
    "rnx_synth = rnx2dr(stations_list=stations_list,\n",
    "                   years_list=years_list,\n",
    "                   project_name='camb_synth_penna',\n",
    "                   num_cores=10,\n",
    "                   tropNom_type='30h_tropNominalOut_VMF1.tdp_penna')\n",
    "rnx_synth.gd2e()"
   ]
  },
  {
   "cell_type": "code",
   "execution_count": null,
   "metadata": {
    "ExecuteTime": {
     "end_time": "2018-09-26T04:12:58.262817Z",
     "start_time": "2018-09-26T03:58:46.124700Z"
    }
   },
   "outputs": [],
   "source": [
    "'''All tropnom xyz are 6 mm'''\n",
    "years_list=[2007,2008,2009,2010,2011,2012]\n",
    "stations_list=['CAMB',]\n",
    "rnx_synth = rnx2dr(stations_list=stations_list,\n",
    "                   years_list=years_list,\n",
    "                   project_name='camb_synth_penna_6',\n",
    "                   num_cores=20,\n",
    "                   tropNom_type='30h_tropNominalOut_VMF1.tdp_penna_6')\n",
    "rnx_synth.gd2e()"
   ]
  },
  {
   "cell_type": "code",
   "execution_count": null,
   "metadata": {
    "ExecuteTime": {
     "end_time": "2018-09-25T14:38:04.402800Z",
     "start_time": "2018-09-25T13:58:24.798896Z"
    }
   },
   "outputs": [],
   "source": [
    "'''STADB 0 FINAL WORKING VERSION. Processing small dataset with synthetic waveform in tropNominal tdp'''\n",
    "years_list=[2007,2008,2009,2010,2011,2012]\n",
    "stations_list=['CAMB',]\n",
    "rnx_synth = rnx2dr(stations_list=stations_list,\n",
    "                   years_list=years_list,\n",
    "                   project_name='camb_staDb_0',\n",
    "                   num_cores=10,\n",
    "                   tropNom_type='30h_tropNominalOut_VMF1.tdp_0_staDb_0')\n",
    "rnx_synth.gd2e()"
   ]
  },
  {
   "cell_type": "code",
   "execution_count": null,
   "metadata": {
    "ExecuteTime": {
     "end_time": "2018-09-25T15:17:51.816497Z",
     "start_time": "2018-09-25T14:38:04.404572Z"
    }
   },
   "outputs": [],
   "source": [
    "'''STADB 1 FINAL WORKING VERSION. Processing small dataset with synthetic waveform in tropNominal tdp'''\n",
    "years_list=[2007,2008,2009,2010,2011,2012]\n",
    "stations_list=['CAMB',]\n",
    "rnx_synth = rnx2dr(stations_list=stations_list,\n",
    "                   years_list=years_list,\n",
    "                   project_name='camb_staDb_1',\n",
    "                   num_cores=10,\n",
    "                   tropNom_type='30h_tropNominalOut_VMF1.tdp_0_staDb_1')\n",
    "rnx_synth.gd2e()"
   ]
  },
  {
   "cell_type": "code",
   "execution_count": null,
   "metadata": {
    "ExecuteTime": {
     "end_time": "2018-09-22T11:16:15.564093Z",
     "start_time": "2018-09-22T11:16:15.532364Z"
    }
   },
   "outputs": [],
   "source": [
    "'''TEST TEST TEST'''\n",
    "years_list=[2007,]\n",
    "stations_list=['CAMB',]\n",
    "rnx_synth = rnx2dr(stations_list=stations_list,\n",
    "                   years_list=years_list,\n",
    "                   project_name='camb_synth_test',\n",
    "                   num_cores=20,\n",
    "                   tropNom_type='30h_tropNominalOut_VMF1.tdp_synth')"
   ]
  },
  {
   "cell_type": "code",
   "execution_count": null,
   "metadata": {},
   "outputs": [],
   "source": []
  },
  {
   "cell_type": "code",
   "execution_count": null,
   "metadata": {
    "ExecuteTime": {
     "end_time": "2018-09-22T11:16:26.144056Z",
     "start_time": "2018-09-22T11:16:23.045574Z"
    }
   },
   "outputs": [],
   "source": [
    "rnx_synth.gd2e()"
   ]
  },
  {
   "cell_type": "code",
   "execution_count": null,
   "metadata": {
    "ExecuteTime": {
     "end_time": "2018-09-11T04:42:46.280945Z",
     "start_time": "2018-09-11T04:42:46.244800Z"
    }
   },
   "outputs": [],
   "source": [
    "'''Processing small dataset with synthetic waveform in tropNominal tdp'''\n",
    "years_list=[2007,]\n",
    "stations_list=['CAMB',]\n",
    "rnx_synth_penna = rnx2dr(stations_list=stations_list,\n",
    "                   years_list=years_list,\n",
    "                   project_name='camb_synth_penna',\n",
    "                   num_cores=10,\n",
    "                   tropNom_type='30h_tropNominalOut_VMF1.tdp_synth_penna')"
   ]
  },
  {
   "cell_type": "code",
   "execution_count": null,
   "metadata": {
    "ExecuteTime": {
     "end_time": "2018-09-11T04:55:07.438712Z",
     "start_time": "2018-09-11T04:42:47.866151Z"
    }
   },
   "outputs": [],
   "source": [
    "rnx_synth_penna.gd2e()"
   ]
  },
  {
   "cell_type": "code",
   "execution_count": null,
   "metadata": {
    "ExecuteTime": {
     "end_time": "2018-09-18T05:08:56.508046Z",
     "start_time": "2018-09-18T05:08:56.489630Z"
    }
   },
   "outputs": [],
   "source": [
    "'''Processing small dataset with synthetic waveform in tropNominal tdp (penna) and tids off'''\n",
    "years_list=[2007,2008,2009,2010,2011,2012]\n",
    "stations_list=['CAMB',]\n",
    "rnx_synth_penna_tides_off = rnx2dr(stations_list=stations_list,\n",
    "                   years_list=years_list,\n",
    "                   project_name='camb_synth_penna_tides_off',\n",
    "                   num_cores=20,\n",
    "                   tree_options = tree_options_tides_off,\n",
    "                   tropNom_type='30h_tropNominalOut_VMF1.tdp_staDb_synth_1')\n"
   ]
  },
  {
   "cell_type": "code",
   "execution_count": null,
   "metadata": {
    "ExecuteTime": {
     "end_time": "2018-09-18T05:28:46.428718Z",
     "start_time": "2018-09-18T05:08:58.039518Z"
    }
   },
   "outputs": [],
   "source": [
    "rnx_synth_penna_tides_off.gd2e()"
   ]
  },
  {
   "cell_type": "code",
   "execution_count": null,
   "metadata": {
    "ExecuteTime": {
     "end_time": "2018-09-18T05:28:46.463386Z",
     "start_time": "2018-09-18T05:28:46.431639Z"
    }
   },
   "outputs": [],
   "source": [
    "'''Processing small dataset with synthetic waveform in tropNominal tdp (penna) and tides off'''\n",
    "years_list=[2007,2008,2009,2010,2011,2012]\n",
    "stations_list=['CAMB',]\n",
    "rnx_staDb_tides_off = rnx2dr(stations_list=stations_list,\n",
    "                   years_list=years_list,\n",
    "                   project_name='camb_staDb_tides_off',\n",
    "                   num_cores=20, \n",
    "                    tree_options = tree_options_tides_off,\n",
    "                   tropNom_type='30h_tropNominalOut_VMF1.tdp_0_staDb_s1')\n"
   ]
  },
  {
   "cell_type": "code",
   "execution_count": null,
   "metadata": {
    "ExecuteTime": {
     "end_time": "2018-09-18T05:48:21.849334Z",
     "start_time": "2018-09-18T05:28:46.467516Z"
    }
   },
   "outputs": [],
   "source": [
    "rnx_staDb_tides_off.gd2e()"
   ]
  },
  {
   "cell_type": "code",
   "execution_count": null,
   "metadata": {
    "ExecuteTime": {
     "end_time": "2018-09-17T05:06:21.977146Z",
     "start_time": "2018-09-17T05:06:21.967037Z"
    }
   },
   "outputs": [],
   "source": [
    "# rnx_synth_penna_ambres_off.gen_trees()"
   ]
  },
  {
   "cell_type": "code",
   "execution_count": null,
   "metadata": {
    "ExecuteTime": {
     "end_time": "2018-09-17T05:08:57.074169Z",
     "start_time": "2018-09-17T05:08:57.060523Z"
    }
   },
   "outputs": [],
   "source": [
    "'''Processing small dataset VMF1 tropNominal tdp (no synth) and ambres off'''\n",
    "years_list=[2007,2008,2009,2010,2011,2012]\n",
    "stations_list=['CAMB',]\n",
    "rnx_ambres_off = rnx2dr(stations_list=stations_list,\n",
    "                   years_list=years_list,\n",
    "                   project_name='camb_ambres_off',\n",
    "                   num_cores=20, \n",
    "                    tree_options = tree_options_ambres_off,\n",
    "                   tropNom_type='30h_tropNominalOut_VMF1.tdp')"
   ]
  },
  {
   "cell_type": "code",
   "execution_count": null,
   "metadata": {
    "ExecuteTime": {
     "end_time": "2018-09-17T05:24:23.141766Z",
     "start_time": "2018-09-17T05:09:00.914786Z"
    }
   },
   "outputs": [],
   "source": [
    "rnx_ambres_off.gd2e()"
   ]
  },
  {
   "cell_type": "code",
   "execution_count": null,
   "metadata": {
    "ExecuteTime": {
     "end_time": "2018-09-12T02:28:34.541847Z",
     "start_time": "2018-09-12T02:28:34.485970Z"
    }
   },
   "outputs": [],
   "source": [
    "# '''Processing small dataset with synthetic waveform in tropNominal tdp/ penna diff'''\n",
    "# years_list=[2007,2008,2009,2010,2011,2012]\n",
    "# stations_list=['CAMB',]\n",
    "# rnx_synth_penna_diff = rnx2dr(stations_list=stations_list,\n",
    "#                    years_list=years_list,\n",
    "#                    project_name='camb_synth_penna_diff',\n",
    "#                    num_cores=10,\n",
    "#                    tropNom_type='30h_tropNominalOut_VMF1.tdp_synth_penna_diff')"
   ]
  },
  {
   "cell_type": "code",
   "execution_count": null,
   "metadata": {
    "ExecuteTime": {
     "end_time": "2018-09-12T03:10:12.755892Z",
     "start_time": "2018-09-12T02:29:53.764249Z"
    }
   },
   "outputs": [],
   "source": [
    "rnx_synth_penna_diff.gd2e()"
   ]
  },
  {
   "cell_type": "code",
   "execution_count": null,
   "metadata": {
    "ExecuteTime": {
     "end_time": "2018-09-12T08:56:06.339192Z",
     "start_time": "2018-09-12T08:56:06.323341Z"
    }
   },
   "outputs": [],
   "source": [
    "'''Processing small dataset with synthetic waveform in tropNominal tdp'''\n",
    "years_list=[2007,2008,2009,2010,2011,2012]\n",
    "stations_list=['CAMB',]\n",
    "rnx_camb = rnx2dr(stations_list=stations_list,\n",
    "                   years_list=years_list,\n",
    "                   project_name='camb_tdp_corrected',\n",
    "                   num_cores=10,\n",
    "                   tropNom_type='30h_tropNominalOut_VMF1.tdp')"
   ]
  },
  {
   "cell_type": "code",
   "execution_count": null,
   "metadata": {
    "ExecuteTime": {
     "end_time": "2018-09-12T09:33:43.157440Z",
     "start_time": "2018-09-12T08:56:08.220007Z"
    }
   },
   "outputs": [],
   "source": [
    "rnx_camb.gd2e()"
   ]
  },
  {
   "cell_type": "code",
   "execution_count": null,
   "metadata": {
    "ExecuteTime": {
     "end_time": "2018-09-13T04:23:46.957750Z",
     "start_time": "2018-09-13T04:23:46.952176Z"
    }
   },
   "outputs": [],
   "source": [
    "'''Processing small dataset with synthetic waveform in tropNominal tdp. Nominal values = 0 | StaDb values |  '''\n",
    "years_list=[2007,2008,2009,2010,2011,2012]\n",
    "stations_list=['CAMB',]\n",
    "rnx_camb_0_staDb_0 = rnx2dr(stations_list=stations_list,\n",
    "                   years_list=years_list,\n",
    "                   project_name='camb_tdp_corrected_0_staDb_0',\n",
    "                   num_cores=10,\n",
    "                   tropNom_type='30h_tropNominalOut_VMF1.tdp_0_staDb_0')"
   ]
  },
  {
   "cell_type": "code",
   "execution_count": null,
   "metadata": {
    "ExecuteTime": {
     "start_time": "2018-09-13T04:23:46.555Z"
    }
   },
   "outputs": [],
   "source": [
    "rnx_camb_0_staDb_0.gd2e()"
   ]
  },
  {
   "cell_type": "code",
   "execution_count": null,
   "metadata": {
    "ExecuteTime": {
     "end_time": "2018-09-13T09:04:18.993056Z",
     "start_time": "2018-09-13T09:04:18.970019Z"
    }
   },
   "outputs": [],
   "source": [
    "# Final processing of test dataset with tdp files of: 0 | Synth | 1\n",
    "# '30h_tropNominalOut_VMF1.tdp_0_synth_1'\n",
    "years_list=[2007,2008,2009,2010,2011,2012]\n",
    "stations_list=['CAMB',]\n",
    "rnx_camb_0_synth_1 = rnx2dr(stations_list=stations_list,\n",
    "                   years_list=years_list,\n",
    "                   project_name='camb_tdp_corrected_0_synth_1',\n",
    "                   num_cores=10,\n",
    "                   tropNom_type='30h_tropNominalOut_VMF1.tdp_0_synth_1')\n"
   ]
  },
  {
   "cell_type": "code",
   "execution_count": null,
   "metadata": {
    "ExecuteTime": {
     "end_time": "2018-09-13T09:41:45.589351Z",
     "start_time": "2018-09-13T09:04:28.918094Z"
    }
   },
   "outputs": [],
   "source": [
    "rnx_camb_0_synth_1.gd2e()"
   ]
  },
  {
   "cell_type": "code",
   "execution_count": null,
   "metadata": {
    "ExecuteTime": {
     "end_time": "2018-09-14T04:16:36.246250Z",
     "start_time": "2018-09-14T04:16:36.240378Z"
    }
   },
   "outputs": [],
   "source": [
    "'''PENNA HERE'''\n",
    "# Final processing of test dataset with tdp files of: 0 | Synth | 1\n",
    "# '30h_tropNominalOut_VMF1.tdp_0_synth_1'\n",
    "years_list=[2007,2008,2009,2010,2011,2012]\n",
    "stations_list=['CAMB',]\n",
    "rnx_camb_staDb_synth_1 = rnx2dr(stations_list=stations_list,\n",
    "                   years_list=years_list,\n",
    "                   project_name='camb_tdp_corrected_staDb_synth_1',\n",
    "                   num_cores=12,\n",
    "                   tropNom_type='30h_tropNominalOut_VMF1.tdp_staDb_synth_1')"
   ]
  },
  {
   "cell_type": "code",
   "execution_count": null,
   "metadata": {
    "ExecuteTime": {
     "end_time": "2018-09-14T04:49:17.643670Z",
     "start_time": "2018-09-14T04:16:37.962384Z"
    }
   },
   "outputs": [],
   "source": [
    "rnx_camb_staDb_synth_1.gd2e()"
   ]
  },
  {
   "cell_type": "code",
   "execution_count": null,
   "metadata": {
    "ExecuteTime": {
     "end_time": "2018-09-14T04:15:59.896860Z",
     "start_time": "2018-09-14T04:15:59.890750Z"
    }
   },
   "outputs": [],
   "source": [
    "'''Processing small dataset with synthetic waveform in tropNominal tdp'''\n",
    "years_list=[2007,2008,2009,2010,2011,2012]\n",
    "stations_list=['CAMB',]\n",
    "rnx_camb_0_staDb_s1 = rnx2dr(stations_list=stations_list,\n",
    "                   years_list=years_list,\n",
    "                   project_name='camb_tdp_corrected_0_staDb_s1',\n",
    "                   num_cores=16,\n",
    "                   tropNom_type='30h_tropNominalOut_VMF1.tdp_0_staDb_s1')"
   ]
  },
  {
   "cell_type": "code",
   "execution_count": null,
   "metadata": {
    "ExecuteTime": {
     "end_time": "2018-09-13T06:44:48.797352Z",
     "start_time": "2018-09-13T06:20:00.039225Z"
    }
   },
   "outputs": [],
   "source": [
    "rnx_camb_0_staDb_s1.gd2e()"
   ]
  },
  {
   "cell_type": "code",
   "execution_count": null,
   "metadata": {
    "ExecuteTime": {
     "end_time": "2018-08-23T16:06:54.932889Z",
     "start_time": "2018-08-23T16:06:54.843491Z"
    }
   },
   "outputs": [],
   "source": [
    "synth = rnx_synth._get_tdps_pn(file='/home/bogdanm/Desktop/CAMB_synthtdp_test/smooth0_0.tdp')"
   ]
  },
  {
   "cell_type": "code",
   "execution_count": null,
   "metadata": {
    "ExecuteTime": {
     "end_time": "2018-08-23T16:06:55.051424Z",
     "start_time": "2018-08-23T16:06:54.967129Z"
    }
   },
   "outputs": [],
   "source": [
    "proper = rnx_synth._get_tdps_pn(file='/home/bogdanm/Desktop/CAMB_test/smooth0_0.tdp')"
   ]
  },
  {
   "cell_type": "code",
   "execution_count": null,
   "metadata": {
    "ExecuteTime": {
     "end_time": "2018-08-23T16:06:55.354487Z",
     "start_time": "2018-08-23T16:06:55.350110Z"
    }
   },
   "outputs": [],
   "source": [
    "synth_df = pd.DataFrame(synth[0][:,1:],index=synth[0][:,0],columns=synth[1])\n",
    "proper_df = pd.DataFrame(proper[0][:,1:],index=proper[0][:,0],columns=proper[1])"
   ]
  },
  {
   "cell_type": "code",
   "execution_count": null,
   "metadata": {
    "ExecuteTime": {
     "end_time": "2018-08-23T16:07:52.101867Z",
     "start_time": "2018-08-23T16:07:52.092269Z"
    }
   },
   "outputs": [],
   "source": [
    "synth_df.iloc[0,2]\n",
    "#4878480.428133955"
   ]
  },
  {
   "cell_type": "code",
   "execution_count": null,
   "metadata": {
    "ExecuteTime": {
     "end_time": "2018-09-22T13:15:24.949031Z",
     "start_time": "2018-09-22T13:15:24.921632Z"
    }
   },
   "outputs": [],
   "source": [
    "np.load('/mnt/Data/bogdanm/tmp_GipsyX/gd2e/camb_staDb/CAMB/2007/001/gipsyx_out.npz')['runAgain']"
   ]
  },
  {
   "cell_type": "code",
   "execution_count": null,
   "metadata": {
    "ExecuteTime": {
     "end_time": "2018-09-14T09:56:52.705064Z",
     "start_time": "2018-09-14T09:56:52.700932Z"
    }
   },
   "outputs": [],
   "source": [
    "J2000_origin"
   ]
  },
  {
   "cell_type": "code",
   "execution_count": null,
   "metadata": {},
   "outputs": [],
   "source": []
  }
 ],
 "metadata": {
  "kernelspec": {
   "display_name": "Python 3",
   "language": "python",
   "name": "python3"
  },
  "language_info": {
   "codemirror_mode": {
    "name": "ipython",
    "version": 3
   },
   "file_extension": ".py",
   "mimetype": "text/x-python",
   "name": "python",
   "nbconvert_exporter": "python",
   "pygments_lexer": "ipython3",
   "version": "3.5.4"
  }
 },
 "nbformat": 4,
 "nbformat_minor": 2
}
